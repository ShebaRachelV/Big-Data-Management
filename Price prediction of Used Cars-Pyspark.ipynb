{
 "cells": [
  {
   "cell_type": "code",
   "execution_count": 1,
   "id": "a3b6f312",
   "metadata": {},
   "outputs": [],
   "source": [
    "from pyspark.sql import SparkSession"
   ]
  },
  {
   "cell_type": "code",
   "execution_count": 2,
   "id": "d381a0c8",
   "metadata": {},
   "outputs": [],
   "source": [
    "spark = SparkSession \\\n",
    "    .builder \\\n",
    "    .appName(\"\") \\\n",
    "    .getOrCreate()"
   ]
  },
  {
   "cell_type": "code",
   "execution_count": 4,
   "id": "f367d24d",
   "metadata": {},
   "outputs": [],
   "source": [
    "df = spark.read.csv('cars.csv',header=True, inferSchema =True)"
   ]
  },
  {
   "cell_type": "code",
   "execution_count": 4,
   "id": "e82681ae",
   "metadata": {},
   "outputs": [
    {
     "name": "stdout",
     "output_type": "stream",
     "text": [
      "+-----------------+----------+------------+------+--------------+-------------+-----------+--------------+-----------+---------------+---------+------------+-----+----------+---------+---------------+---------------+----------------+----------+---------+---------+---------+---------+---------+---------+---------+---------+---------+---------+---------------+\n",
      "|manufacturer_name|model_name|transmission|color |odometer_value|year_produced|engine_fuel|engine_has_gas|engine_type|engine_capacity|body_type|has_warranty|state|drivetrain|price_usd|is_exchangeable|location_region|number_of_photos|up_counter|feature_0|feature_1|feature_2|feature_3|feature_4|feature_5|feature_6|feature_7|feature_8|feature_9|duration_listed|\n",
      "+-----------------+----------+------------+------+--------------+-------------+-----------+--------------+-----------+---------------+---------+------------+-----+----------+---------+---------------+---------------+----------------+----------+---------+---------+---------+---------+---------+---------+---------+---------+---------+---------+---------------+\n",
      "|Subaru           |Outback   |automatic   |silver|190000        |2010         |gasoline   |false         |gasoline   |2.5            |universal|false       |owned|all       |10900.0  |false          |Минская обл.   |9               |13        |false    |true     |true     |true     |false    |true     |false    |true     |true     |true     |16             |\n",
      "|Subaru           |Outback   |automatic   |blue  |290000        |2002         |gasoline   |false         |gasoline   |3.0            |universal|false       |owned|all       |5000.0   |true           |Минская обл.   |12              |54        |false    |true     |false    |false    |true     |true     |false    |false    |false    |true     |83             |\n",
      "|Subaru           |Forester  |automatic   |red   |402000        |2001         |gasoline   |false         |gasoline   |2.5            |suv      |false       |owned|all       |2800.0   |true           |Минская обл.   |4               |72        |false    |true     |false    |false    |false    |false    |false    |false    |true     |true     |151            |\n",
      "|Subaru           |Impreza   |mechanical  |blue  |10000         |1999         |gasoline   |false         |gasoline   |3.0            |sedan    |false       |owned|all       |9999.0   |true           |Минская обл.   |9               |42        |true     |false    |false    |false    |false    |false    |false    |false    |false    |false    |86             |\n",
      "|Subaru           |Legacy    |automatic   |black |280000        |2001         |gasoline   |false         |gasoline   |2.5            |universal|false       |owned|all       |2134.11  |true           |Гомельская обл.|14              |7         |false    |true     |false    |true     |true     |false    |false    |false    |false    |true     |7              |\n",
      "|Subaru           |Outback   |automatic   |silver|132449        |2011         |gasoline   |false         |gasoline   |2.5            |universal|false       |owned|all       |14700.0  |true           |Минская обл.   |20              |56        |false    |true     |false    |false    |false    |true     |false    |true     |true     |true     |67             |\n",
      "|Subaru           |Forester  |automatic   |black |318280        |1998         |gasoline   |false         |gasoline   |2.5            |universal|false       |owned|all       |3000.0   |true           |Минская обл.   |8               |147       |false    |true     |false    |false    |true     |true     |false    |false    |true     |true     |307            |\n",
      "|Subaru           |Legacy    |automatic   |silver|350000        |2004         |gasoline   |false         |gasoline   |2.5            |sedan    |false       |owned|all       |4500.0   |false          |Брестская обл. |7               |29        |false    |true     |true     |false    |false    |false    |false    |false    |false    |true     |73             |\n",
      "|Subaru           |Outback   |automatic   |grey  |179000        |2010         |gasoline   |false         |gasoline   |2.5            |universal|false       |owned|all       |12900.0  |false          |Минская обл.   |17              |33        |false    |true     |true     |true     |true     |true     |true     |true     |true     |true     |87             |\n",
      "|Subaru           |Forester  |automatic   |silver|571317        |1999         |gasoline   |false         |gasoline   |2.5            |universal|false       |owned|all       |4200.0   |true           |Минская обл.   |8               |11        |false    |true     |true     |false    |false    |true     |false    |false    |false    |true     |43             |\n",
      "|Subaru           |Forester  |mechanical  |other |280000        |2003         |gasoline   |false         |gasoline   |2.0            |suv      |false       |owned|all       |6900.0   |true           |Минская обл.   |14              |6         |false    |true     |false    |true     |false    |true     |false    |true     |true     |true     |11             |\n",
      "|Subaru           |Tribeca   |automatic   |grey  |256000        |2008         |gasoline   |false         |gasoline   |3.6            |suv      |false       |owned|all       |8350.0   |true           |Минская обл.   |18              |61        |false    |true     |true     |true     |true     |true     |false    |false    |true     |true     |80             |\n",
      "|Subaru           |Forester  |mechanical  |other |321000        |2002         |gasoline   |false         |gasoline   |2.0            |suv      |false       |owned|all       |4300.0   |false          |Минская обл.   |13              |2         |false    |true     |false    |false    |false    |false    |false    |false    |false    |false    |2              |\n",
      "|Subaru           |Justy     |mechanical  |red   |49999         |2001         |gasoline   |false         |gasoline   |1.3            |hatchback|false       |owned|all       |1666.0   |false          |Гомельская обл.|8               |94        |true     |false    |false    |false    |false    |false    |false    |false    |false    |false    |230            |\n",
      "|Subaru           |Outback   |automatic   |brown |154685        |2011         |gasoline   |false         |gasoline   |2.5            |universal|false       |owned|all       |8600.0   |true           |Минская обл.   |24              |34        |false    |true     |false    |true     |false    |false    |false    |false    |true     |true     |63             |\n",
      "|Subaru           |Outback   |automatic   |black |163219        |2004         |gasoline   |false         |gasoline   |2.0            |universal|false       |owned|all       |7300.0   |true           |Минская обл.   |17              |22        |false    |true     |true     |false    |true     |true     |false    |false    |false    |true     |35             |\n",
      "|Subaru           |Outback   |automatic   |other |318650        |2005         |gasoline   |false         |gasoline   |3.0            |universal|false       |owned|all       |7587.97  |true           |Минская обл.   |7               |166       |false    |true     |false    |true     |true     |true     |false    |false    |true     |true     |468            |\n",
      "|Subaru           |Impreza   |mechanical  |blue  |191000        |2005         |gasoline   |false         |gasoline   |2.0            |sedan    |false       |owned|all       |10950.0  |false          |Минская обл.   |12              |7         |false    |true     |false    |false    |false    |false    |false    |false    |false    |true     |21             |\n",
      "|Subaru           |Forester  |automatic   |silver|179000        |2014         |gasoline   |false         |gasoline   |2.0            |suv      |false       |owned|all       |12700.0  |false          |Минская обл.   |14              |14        |false    |false    |true     |true     |false    |true     |true     |true     |true     |true     |16             |\n",
      "|Subaru           |Forester  |automatic   |black |159000        |2013         |gasoline   |false         |gasoline   |2.0            |suv      |false       |owned|all       |16500.0  |false          |Минская обл.   |6               |34        |false    |true     |true     |false    |true     |true     |false    |true     |true     |true     |59             |\n",
      "+-----------------+----------+------------+------+--------------+-------------+-----------+--------------+-----------+---------------+---------+------------+-----+----------+---------+---------------+---------------+----------------+----------+---------+---------+---------+---------+---------+---------+---------+---------+---------+---------+---------------+\n",
      "only showing top 20 rows\n",
      "\n"
     ]
    }
   ],
   "source": [
    "df.show(truncate = False)"
   ]
  },
  {
   "cell_type": "code",
   "execution_count": 5,
   "id": "a86d1138",
   "metadata": {},
   "outputs": [
    {
     "data": {
      "text/html": [
       "<div>\n",
       "<style scoped>\n",
       "    .dataframe tbody tr th:only-of-type {\n",
       "        vertical-align: middle;\n",
       "    }\n",
       "\n",
       "    .dataframe tbody tr th {\n",
       "        vertical-align: top;\n",
       "    }\n",
       "\n",
       "    .dataframe thead th {\n",
       "        text-align: right;\n",
       "    }\n",
       "</style>\n",
       "<table border=\"1\" class=\"dataframe\">\n",
       "  <thead>\n",
       "    <tr style=\"text-align: right;\">\n",
       "      <th></th>\n",
       "      <th>manufacturer_name</th>\n",
       "      <th>model_name</th>\n",
       "      <th>transmission</th>\n",
       "      <th>color</th>\n",
       "      <th>odometer_value</th>\n",
       "      <th>year_produced</th>\n",
       "      <th>engine_fuel</th>\n",
       "      <th>engine_has_gas</th>\n",
       "      <th>engine_type</th>\n",
       "      <th>engine_capacity</th>\n",
       "      <th>...</th>\n",
       "      <th>feature_1</th>\n",
       "      <th>feature_2</th>\n",
       "      <th>feature_3</th>\n",
       "      <th>feature_4</th>\n",
       "      <th>feature_5</th>\n",
       "      <th>feature_6</th>\n",
       "      <th>feature_7</th>\n",
       "      <th>feature_8</th>\n",
       "      <th>feature_9</th>\n",
       "      <th>duration_listed</th>\n",
       "    </tr>\n",
       "  </thead>\n",
       "  <tbody>\n",
       "    <tr>\n",
       "      <th>0</th>\n",
       "      <td>Subaru</td>\n",
       "      <td>Outback</td>\n",
       "      <td>automatic</td>\n",
       "      <td>silver</td>\n",
       "      <td>190000</td>\n",
       "      <td>2010</td>\n",
       "      <td>gasoline</td>\n",
       "      <td>False</td>\n",
       "      <td>gasoline</td>\n",
       "      <td>2.5</td>\n",
       "      <td>...</td>\n",
       "      <td>True</td>\n",
       "      <td>True</td>\n",
       "      <td>True</td>\n",
       "      <td>False</td>\n",
       "      <td>True</td>\n",
       "      <td>False</td>\n",
       "      <td>True</td>\n",
       "      <td>True</td>\n",
       "      <td>True</td>\n",
       "      <td>16</td>\n",
       "    </tr>\n",
       "    <tr>\n",
       "      <th>1</th>\n",
       "      <td>Subaru</td>\n",
       "      <td>Outback</td>\n",
       "      <td>automatic</td>\n",
       "      <td>blue</td>\n",
       "      <td>290000</td>\n",
       "      <td>2002</td>\n",
       "      <td>gasoline</td>\n",
       "      <td>False</td>\n",
       "      <td>gasoline</td>\n",
       "      <td>3.0</td>\n",
       "      <td>...</td>\n",
       "      <td>True</td>\n",
       "      <td>False</td>\n",
       "      <td>False</td>\n",
       "      <td>True</td>\n",
       "      <td>True</td>\n",
       "      <td>False</td>\n",
       "      <td>False</td>\n",
       "      <td>False</td>\n",
       "      <td>True</td>\n",
       "      <td>83</td>\n",
       "    </tr>\n",
       "    <tr>\n",
       "      <th>2</th>\n",
       "      <td>Subaru</td>\n",
       "      <td>Forester</td>\n",
       "      <td>automatic</td>\n",
       "      <td>red</td>\n",
       "      <td>402000</td>\n",
       "      <td>2001</td>\n",
       "      <td>gasoline</td>\n",
       "      <td>False</td>\n",
       "      <td>gasoline</td>\n",
       "      <td>2.5</td>\n",
       "      <td>...</td>\n",
       "      <td>True</td>\n",
       "      <td>False</td>\n",
       "      <td>False</td>\n",
       "      <td>False</td>\n",
       "      <td>False</td>\n",
       "      <td>False</td>\n",
       "      <td>False</td>\n",
       "      <td>True</td>\n",
       "      <td>True</td>\n",
       "      <td>151</td>\n",
       "    </tr>\n",
       "    <tr>\n",
       "      <th>3</th>\n",
       "      <td>Subaru</td>\n",
       "      <td>Impreza</td>\n",
       "      <td>mechanical</td>\n",
       "      <td>blue</td>\n",
       "      <td>10000</td>\n",
       "      <td>1999</td>\n",
       "      <td>gasoline</td>\n",
       "      <td>False</td>\n",
       "      <td>gasoline</td>\n",
       "      <td>3.0</td>\n",
       "      <td>...</td>\n",
       "      <td>False</td>\n",
       "      <td>False</td>\n",
       "      <td>False</td>\n",
       "      <td>False</td>\n",
       "      <td>False</td>\n",
       "      <td>False</td>\n",
       "      <td>False</td>\n",
       "      <td>False</td>\n",
       "      <td>False</td>\n",
       "      <td>86</td>\n",
       "    </tr>\n",
       "    <tr>\n",
       "      <th>4</th>\n",
       "      <td>Subaru</td>\n",
       "      <td>Legacy</td>\n",
       "      <td>automatic</td>\n",
       "      <td>black</td>\n",
       "      <td>280000</td>\n",
       "      <td>2001</td>\n",
       "      <td>gasoline</td>\n",
       "      <td>False</td>\n",
       "      <td>gasoline</td>\n",
       "      <td>2.5</td>\n",
       "      <td>...</td>\n",
       "      <td>True</td>\n",
       "      <td>False</td>\n",
       "      <td>True</td>\n",
       "      <td>True</td>\n",
       "      <td>False</td>\n",
       "      <td>False</td>\n",
       "      <td>False</td>\n",
       "      <td>False</td>\n",
       "      <td>True</td>\n",
       "      <td>7</td>\n",
       "    </tr>\n",
       "    <tr>\n",
       "      <th>...</th>\n",
       "      <td>...</td>\n",
       "      <td>...</td>\n",
       "      <td>...</td>\n",
       "      <td>...</td>\n",
       "      <td>...</td>\n",
       "      <td>...</td>\n",
       "      <td>...</td>\n",
       "      <td>...</td>\n",
       "      <td>...</td>\n",
       "      <td>...</td>\n",
       "      <td>...</td>\n",
       "      <td>...</td>\n",
       "      <td>...</td>\n",
       "      <td>...</td>\n",
       "      <td>...</td>\n",
       "      <td>...</td>\n",
       "      <td>...</td>\n",
       "      <td>...</td>\n",
       "      <td>...</td>\n",
       "      <td>...</td>\n",
       "      <td>...</td>\n",
       "    </tr>\n",
       "    <tr>\n",
       "      <th>38526</th>\n",
       "      <td>Chrysler</td>\n",
       "      <td>300</td>\n",
       "      <td>automatic</td>\n",
       "      <td>silver</td>\n",
       "      <td>290000</td>\n",
       "      <td>2000</td>\n",
       "      <td>gasoline</td>\n",
       "      <td>False</td>\n",
       "      <td>gasoline</td>\n",
       "      <td>3.5</td>\n",
       "      <td>...</td>\n",
       "      <td>True</td>\n",
       "      <td>False</td>\n",
       "      <td>False</td>\n",
       "      <td>True</td>\n",
       "      <td>True</td>\n",
       "      <td>False</td>\n",
       "      <td>False</td>\n",
       "      <td>True</td>\n",
       "      <td>True</td>\n",
       "      <td>301</td>\n",
       "    </tr>\n",
       "    <tr>\n",
       "      <th>38527</th>\n",
       "      <td>Chrysler</td>\n",
       "      <td>PT Cruiser</td>\n",
       "      <td>mechanical</td>\n",
       "      <td>blue</td>\n",
       "      <td>321000</td>\n",
       "      <td>2004</td>\n",
       "      <td>diesel</td>\n",
       "      <td>False</td>\n",
       "      <td>diesel</td>\n",
       "      <td>2.2</td>\n",
       "      <td>...</td>\n",
       "      <td>True</td>\n",
       "      <td>False</td>\n",
       "      <td>False</td>\n",
       "      <td>True</td>\n",
       "      <td>True</td>\n",
       "      <td>False</td>\n",
       "      <td>False</td>\n",
       "      <td>True</td>\n",
       "      <td>True</td>\n",
       "      <td>317</td>\n",
       "    </tr>\n",
       "    <tr>\n",
       "      <th>38528</th>\n",
       "      <td>Chrysler</td>\n",
       "      <td>300</td>\n",
       "      <td>automatic</td>\n",
       "      <td>blue</td>\n",
       "      <td>777957</td>\n",
       "      <td>2000</td>\n",
       "      <td>gasoline</td>\n",
       "      <td>False</td>\n",
       "      <td>gasoline</td>\n",
       "      <td>3.5</td>\n",
       "      <td>...</td>\n",
       "      <td>True</td>\n",
       "      <td>False</td>\n",
       "      <td>False</td>\n",
       "      <td>True</td>\n",
       "      <td>True</td>\n",
       "      <td>False</td>\n",
       "      <td>False</td>\n",
       "      <td>True</td>\n",
       "      <td>True</td>\n",
       "      <td>369</td>\n",
       "    </tr>\n",
       "    <tr>\n",
       "      <th>38529</th>\n",
       "      <td>Chrysler</td>\n",
       "      <td>PT Cruiser</td>\n",
       "      <td>mechanical</td>\n",
       "      <td>black</td>\n",
       "      <td>20000</td>\n",
       "      <td>2001</td>\n",
       "      <td>gasoline</td>\n",
       "      <td>False</td>\n",
       "      <td>gasoline</td>\n",
       "      <td>2.0</td>\n",
       "      <td>...</td>\n",
       "      <td>True</td>\n",
       "      <td>False</td>\n",
       "      <td>False</td>\n",
       "      <td>False</td>\n",
       "      <td>False</td>\n",
       "      <td>False</td>\n",
       "      <td>False</td>\n",
       "      <td>False</td>\n",
       "      <td>True</td>\n",
       "      <td>490</td>\n",
       "    </tr>\n",
       "    <tr>\n",
       "      <th>38530</th>\n",
       "      <td>Chrysler</td>\n",
       "      <td>Voyager</td>\n",
       "      <td>automatic</td>\n",
       "      <td>silver</td>\n",
       "      <td>297729</td>\n",
       "      <td>2000</td>\n",
       "      <td>gasoline</td>\n",
       "      <td>False</td>\n",
       "      <td>gasoline</td>\n",
       "      <td>2.4</td>\n",
       "      <td>...</td>\n",
       "      <td>False</td>\n",
       "      <td>False</td>\n",
       "      <td>False</td>\n",
       "      <td>False</td>\n",
       "      <td>False</td>\n",
       "      <td>False</td>\n",
       "      <td>False</td>\n",
       "      <td>False</td>\n",
       "      <td>True</td>\n",
       "      <td>632</td>\n",
       "    </tr>\n",
       "  </tbody>\n",
       "</table>\n",
       "<p>38531 rows × 30 columns</p>\n",
       "</div>"
      ],
      "text/plain": [
       "      manufacturer_name  model_name transmission   color  odometer_value  \\\n",
       "0                Subaru     Outback    automatic  silver          190000   \n",
       "1                Subaru     Outback    automatic    blue          290000   \n",
       "2                Subaru    Forester    automatic     red          402000   \n",
       "3                Subaru     Impreza   mechanical    blue           10000   \n",
       "4                Subaru      Legacy    automatic   black          280000   \n",
       "...                 ...         ...          ...     ...             ...   \n",
       "38526          Chrysler         300    automatic  silver          290000   \n",
       "38527          Chrysler  PT Cruiser   mechanical    blue          321000   \n",
       "38528          Chrysler         300    automatic    blue          777957   \n",
       "38529          Chrysler  PT Cruiser   mechanical   black           20000   \n",
       "38530          Chrysler     Voyager    automatic  silver          297729   \n",
       "\n",
       "       year_produced engine_fuel  engine_has_gas engine_type  engine_capacity  \\\n",
       "0               2010    gasoline           False    gasoline              2.5   \n",
       "1               2002    gasoline           False    gasoline              3.0   \n",
       "2               2001    gasoline           False    gasoline              2.5   \n",
       "3               1999    gasoline           False    gasoline              3.0   \n",
       "4               2001    gasoline           False    gasoline              2.5   \n",
       "...              ...         ...             ...         ...              ...   \n",
       "38526           2000    gasoline           False    gasoline              3.5   \n",
       "38527           2004      diesel           False      diesel              2.2   \n",
       "38528           2000    gasoline           False    gasoline              3.5   \n",
       "38529           2001    gasoline           False    gasoline              2.0   \n",
       "38530           2000    gasoline           False    gasoline              2.4   \n",
       "\n",
       "       ... feature_1  feature_2 feature_3 feature_4  feature_5  feature_6  \\\n",
       "0      ...      True       True      True     False       True      False   \n",
       "1      ...      True      False     False      True       True      False   \n",
       "2      ...      True      False     False     False      False      False   \n",
       "3      ...     False      False     False     False      False      False   \n",
       "4      ...      True      False      True      True      False      False   \n",
       "...    ...       ...        ...       ...       ...        ...        ...   \n",
       "38526  ...      True      False     False      True       True      False   \n",
       "38527  ...      True      False     False      True       True      False   \n",
       "38528  ...      True      False     False      True       True      False   \n",
       "38529  ...      True      False     False     False      False      False   \n",
       "38530  ...     False      False     False     False      False      False   \n",
       "\n",
       "      feature_7  feature_8  feature_9  duration_listed  \n",
       "0          True       True       True               16  \n",
       "1         False      False       True               83  \n",
       "2         False       True       True              151  \n",
       "3         False      False      False               86  \n",
       "4         False      False       True                7  \n",
       "...         ...        ...        ...              ...  \n",
       "38526     False       True       True              301  \n",
       "38527     False       True       True              317  \n",
       "38528     False       True       True              369  \n",
       "38529     False      False       True              490  \n",
       "38530     False      False       True              632  \n",
       "\n",
       "[38531 rows x 30 columns]"
      ]
     },
     "execution_count": 5,
     "metadata": {},
     "output_type": "execute_result"
    }
   ],
   "source": [
    "df_table =df.toPandas()\n",
    "df_table"
   ]
  },
  {
   "cell_type": "code",
   "execution_count": 6,
   "id": "757b9b40",
   "metadata": {},
   "outputs": [
    {
     "name": "stdout",
     "output_type": "stream",
     "text": [
      "root\n",
      " |-- manufacturer_name: string (nullable = true)\n",
      " |-- model_name: string (nullable = true)\n",
      " |-- transmission: string (nullable = true)\n",
      " |-- color: string (nullable = true)\n",
      " |-- odometer_value: integer (nullable = true)\n",
      " |-- year_produced: integer (nullable = true)\n",
      " |-- engine_fuel: string (nullable = true)\n",
      " |-- engine_has_gas: boolean (nullable = true)\n",
      " |-- engine_type: string (nullable = true)\n",
      " |-- engine_capacity: double (nullable = true)\n",
      " |-- body_type: string (nullable = true)\n",
      " |-- has_warranty: boolean (nullable = true)\n",
      " |-- state: string (nullable = true)\n",
      " |-- drivetrain: string (nullable = true)\n",
      " |-- price_usd: double (nullable = true)\n",
      " |-- is_exchangeable: boolean (nullable = true)\n",
      " |-- location_region: string (nullable = true)\n",
      " |-- number_of_photos: integer (nullable = true)\n",
      " |-- up_counter: integer (nullable = true)\n",
      " |-- feature_0: boolean (nullable = true)\n",
      " |-- feature_1: boolean (nullable = true)\n",
      " |-- feature_2: boolean (nullable = true)\n",
      " |-- feature_3: boolean (nullable = true)\n",
      " |-- feature_4: boolean (nullable = true)\n",
      " |-- feature_5: boolean (nullable = true)\n",
      " |-- feature_6: boolean (nullable = true)\n",
      " |-- feature_7: boolean (nullable = true)\n",
      " |-- feature_8: boolean (nullable = true)\n",
      " |-- feature_9: boolean (nullable = true)\n",
      " |-- duration_listed: integer (nullable = true)\n",
      "\n"
     ]
    }
   ],
   "source": [
    "df.printSchema()"
   ]
  },
  {
   "cell_type": "code",
   "execution_count": 7,
   "id": "b801d490",
   "metadata": {},
   "outputs": [
    {
     "name": "stdout",
     "output_type": "stream",
     "text": [
      "+-----------------+-----+\n",
      "|manufacturer_name|count|\n",
      "+-----------------+-----+\n",
      "|       Volkswagen| 4243|\n",
      "|             Opel| 2759|\n",
      "|              BMW| 2610|\n",
      "|             Ford| 2566|\n",
      "|          Renault| 2493|\n",
      "|             Audi| 2468|\n",
      "|    Mercedes-Benz| 2237|\n",
      "|          Peugeot| 1909|\n",
      "|          Citroen| 1562|\n",
      "|           Nissan| 1361|\n",
      "|            Mazda| 1328|\n",
      "|           Toyota| 1246|\n",
      "|          Hyundai| 1116|\n",
      "|            Skoda| 1089|\n",
      "|              Kia|  912|\n",
      "|       Mitsubishi|  887|\n",
      "|             Fiat|  824|\n",
      "|            Honda|  797|\n",
      "|            Volvo|  721|\n",
      "|              ВАЗ|  481|\n",
      "|        Chevrolet|  436|\n",
      "|         Chrysler|  410|\n",
      "|             Seat|  303|\n",
      "|            Dodge|  297|\n",
      "|           Subaru|  291|\n",
      "|            Rover|  235|\n",
      "|           Suzuki|  234|\n",
      "|           Daewoo|  221|\n",
      "|            Lexus|  213|\n",
      "|       Alfa Romeo|  207|\n",
      "|              ГАЗ|  200|\n",
      "|       Land Rover|  184|\n",
      "|         Infiniti|  162|\n",
      "|             LADA|  146|\n",
      "|            Iveco|  139|\n",
      "|             Saab|  108|\n",
      "|             Jeep|  107|\n",
      "|           Lancia|   92|\n",
      "|        SsangYong|   79|\n",
      "|              УАЗ|   74|\n",
      "|            Geely|   71|\n",
      "|             Mini|   68|\n",
      "|            Acura|   66|\n",
      "|          Porsche|   61|\n",
      "|            Dacia|   59|\n",
      "|            Chery|   58|\n",
      "|          Москвич|   55|\n",
      "|           Jaguar|   53|\n",
      "|            Lifan|   47|\n",
      "|            Buick|   47|\n",
      "|         Cadillac|   43|\n",
      "|          Pontiac|   42|\n",
      "|              ЗАЗ|   42|\n",
      "|          Lincoln|   36|\n",
      "|       Great Wall|   36|\n",
      "+-----------------+-----+\n",
      "\n"
     ]
    }
   ],
   "source": [
    "df.groupBy('manufacturer_name').count().sort(\"count\",ascending = False).show(55)"
   ]
  },
  {
   "cell_type": "code",
   "execution_count": 8,
   "id": "c3dbe115",
   "metadata": {},
   "outputs": [
    {
     "name": "stdout",
     "output_type": "stream",
     "text": [
      "+-------+-----------------+------------------+------------+------+------------------+------------------+-------------+-----------+------------------+---------+---------+----------+-----------------+----------------+-----------------+------------------+------------------+\n",
      "|summary|manufacturer_name|        model_name|transmission| color|    odometer_value|     year_produced|  engine_fuel|engine_type|   engine_capacity|body_type|    state|drivetrain|        price_usd| location_region| number_of_photos|        up_counter|   duration_listed|\n",
      "+-------+-----------------+------------------+------------+------+------------------+------------------+-------------+-----------+------------------+---------+---------+----------+-----------------+----------------+-----------------+------------------+------------------+\n",
      "|  count|            38531|             38531|       38531| 38531|             38531|             38531|        38531|      38531|             38521|    38531|    38531|     38531|            38531|           38531|            38531|             38531|             38531|\n",
      "|   mean|             null|1168.2918056562726|        null|  null| 248864.6384469648|2002.9437336170874|         null|       null| 2.055161106928712|     null|     null|      null|6639.971021255616|            null|9.649061794399314|16.306091199294073|  80.5772494874257|\n",
      "| stddev|             null| 9820.119520829547|        null|  null|136072.37652978077| 8.065730511309367|         null|       null|0.6711776672087448|     null|     null|      null|6428.152018202914|            null|6.093216996872855| 43.28693309422316|112.82656864261284|\n",
      "|    min|            Acura|               100|   automatic| black|                 0|              1942|       diesel|     diesel|               0.2|cabriolet|emergency|       all|              1.0|  Брестская обл.|                1|                 1|                 0|\n",
      "|    max|              УАЗ|            Таврия|  mechanical|yellow|           1000000|              2019|hybrid-petrol|   gasoline|               8.0|      van|    owned|      rear|          50000.0|Могилевская обл.|               86|              1861|              2232|\n",
      "+-------+-----------------+------------------+------------+------+------------------+------------------+-------------+-----------+------------------+---------+---------+----------+-----------------+----------------+-----------------+------------------+------------------+\n",
      "\n"
     ]
    }
   ],
   "source": [
    "df.describe().show()"
   ]
  },
  {
   "cell_type": "code",
   "execution_count": 5,
   "id": "31669d0a",
   "metadata": {},
   "outputs": [
    {
     "name": "stdout",
     "output_type": "stream",
     "text": [
      "+-----------------+------------------+------------+------+--------------+-------------+-----------+--------------+-----------+---------------+---------+------------+-----+----------+---------+---------------+---------------+----------------+----------+---------+---------+---------+---------+---------+---------+---------+---------+---------+---------+---------------+\n",
      "|manufacturer_name|manufacturer_model|transmission|color |odometer_value|year_produced|engine_fuel|engine_has_gas|engine_type|engine_capacity|body_type|has_warranty|state|drivetrain|price_usd|is_exchangeable|location_region|number_of_photos|up_counter|feature_0|feature_1|feature_2|feature_3|feature_4|feature_5|feature_6|feature_7|feature_8|feature_9|duration_listed|\n",
      "+-----------------+------------------+------------+------+--------------+-------------+-----------+--------------+-----------+---------------+---------+------------+-----+----------+---------+---------------+---------------+----------------+----------+---------+---------+---------+---------+---------+---------+---------+---------+---------+---------+---------------+\n",
      "|Subaru           |Subaru_Outback    |automatic   |silver|190000        |2010         |gasoline   |false         |gasoline   |2.5            |universal|false       |owned|all       |10900.0  |false          |Минская обл.   |9               |13        |false    |true     |true     |true     |false    |true     |false    |true     |true     |true     |16             |\n",
      "|Subaru           |Subaru_Outback    |automatic   |blue  |290000        |2002         |gasoline   |false         |gasoline   |3.0            |universal|false       |owned|all       |5000.0   |true           |Минская обл.   |12              |54        |false    |true     |false    |false    |true     |true     |false    |false    |false    |true     |83             |\n",
      "|Subaru           |Subaru_Forester   |automatic   |red   |402000        |2001         |gasoline   |false         |gasoline   |2.5            |suv      |false       |owned|all       |2800.0   |true           |Минская обл.   |4               |72        |false    |true     |false    |false    |false    |false    |false    |false    |true     |true     |151            |\n",
      "|Subaru           |Subaru_Impreza    |mechanical  |blue  |10000         |1999         |gasoline   |false         |gasoline   |3.0            |sedan    |false       |owned|all       |9999.0   |true           |Минская обл.   |9               |42        |true     |false    |false    |false    |false    |false    |false    |false    |false    |false    |86             |\n",
      "|Subaru           |Subaru_Legacy     |automatic   |black |280000        |2001         |gasoline   |false         |gasoline   |2.5            |universal|false       |owned|all       |2134.11  |true           |Гомельская обл.|14              |7         |false    |true     |false    |true     |true     |false    |false    |false    |false    |true     |7              |\n",
      "|Subaru           |Subaru_Outback    |automatic   |silver|132449        |2011         |gasoline   |false         |gasoline   |2.5            |universal|false       |owned|all       |14700.0  |true           |Минская обл.   |20              |56        |false    |true     |false    |false    |false    |true     |false    |true     |true     |true     |67             |\n",
      "|Subaru           |Subaru_Forester   |automatic   |black |318280        |1998         |gasoline   |false         |gasoline   |2.5            |universal|false       |owned|all       |3000.0   |true           |Минская обл.   |8               |147       |false    |true     |false    |false    |true     |true     |false    |false    |true     |true     |307            |\n",
      "|Subaru           |Subaru_Legacy     |automatic   |silver|350000        |2004         |gasoline   |false         |gasoline   |2.5            |sedan    |false       |owned|all       |4500.0   |false          |Брестская обл. |7               |29        |false    |true     |true     |false    |false    |false    |false    |false    |false    |true     |73             |\n",
      "|Subaru           |Subaru_Outback    |automatic   |grey  |179000        |2010         |gasoline   |false         |gasoline   |2.5            |universal|false       |owned|all       |12900.0  |false          |Минская обл.   |17              |33        |false    |true     |true     |true     |true     |true     |true     |true     |true     |true     |87             |\n",
      "|Subaru           |Subaru_Forester   |automatic   |silver|571317        |1999         |gasoline   |false         |gasoline   |2.5            |universal|false       |owned|all       |4200.0   |true           |Минская обл.   |8               |11        |false    |true     |true     |false    |false    |true     |false    |false    |false    |true     |43             |\n",
      "|Subaru           |Subaru_Forester   |mechanical  |other |280000        |2003         |gasoline   |false         |gasoline   |2.0            |suv      |false       |owned|all       |6900.0   |true           |Минская обл.   |14              |6         |false    |true     |false    |true     |false    |true     |false    |true     |true     |true     |11             |\n",
      "|Subaru           |Subaru_Tribeca    |automatic   |grey  |256000        |2008         |gasoline   |false         |gasoline   |3.6            |suv      |false       |owned|all       |8350.0   |true           |Минская обл.   |18              |61        |false    |true     |true     |true     |true     |true     |false    |false    |true     |true     |80             |\n",
      "|Subaru           |Subaru_Forester   |mechanical  |other |321000        |2002         |gasoline   |false         |gasoline   |2.0            |suv      |false       |owned|all       |4300.0   |false          |Минская обл.   |13              |2         |false    |true     |false    |false    |false    |false    |false    |false    |false    |false    |2              |\n",
      "|Subaru           |Subaru_Justy      |mechanical  |red   |49999         |2001         |gasoline   |false         |gasoline   |1.3            |hatchback|false       |owned|all       |1666.0   |false          |Гомельская обл.|8               |94        |true     |false    |false    |false    |false    |false    |false    |false    |false    |false    |230            |\n",
      "|Subaru           |Subaru_Outback    |automatic   |brown |154685        |2011         |gasoline   |false         |gasoline   |2.5            |universal|false       |owned|all       |8600.0   |true           |Минская обл.   |24              |34        |false    |true     |false    |true     |false    |false    |false    |false    |true     |true     |63             |\n",
      "|Subaru           |Subaru_Outback    |automatic   |black |163219        |2004         |gasoline   |false         |gasoline   |2.0            |universal|false       |owned|all       |7300.0   |true           |Минская обл.   |17              |22        |false    |true     |true     |false    |true     |true     |false    |false    |false    |true     |35             |\n",
      "|Subaru           |Subaru_Outback    |automatic   |other |318650        |2005         |gasoline   |false         |gasoline   |3.0            |universal|false       |owned|all       |7587.97  |true           |Минская обл.   |7               |166       |false    |true     |false    |true     |true     |true     |false    |false    |true     |true     |468            |\n",
      "|Subaru           |Subaru_Impreza    |mechanical  |blue  |191000        |2005         |gasoline   |false         |gasoline   |2.0            |sedan    |false       |owned|all       |10950.0  |false          |Минская обл.   |12              |7         |false    |true     |false    |false    |false    |false    |false    |false    |false    |true     |21             |\n",
      "|Subaru           |Subaru_Forester   |automatic   |silver|179000        |2014         |gasoline   |false         |gasoline   |2.0            |suv      |false       |owned|all       |12700.0  |false          |Минская обл.   |14              |14        |false    |false    |true     |true     |false    |true     |true     |true     |true     |true     |16             |\n",
      "|Subaru           |Subaru_Forester   |automatic   |black |159000        |2013         |gasoline   |false         |gasoline   |2.0            |suv      |false       |owned|all       |16500.0  |false          |Минская обл.   |6               |34        |false    |true     |true     |false    |true     |true     |false    |true     |true     |true     |59             |\n",
      "+-----------------+------------------+------------+------+--------------+-------------+-----------+--------------+-----------+---------------+---------+------------+-----+----------+---------+---------------+---------------+----------------+----------+---------+---------+---------+---------+---------+---------+---------+---------+---------+---------+---------------+\n",
      "only showing top 20 rows\n",
      "\n"
     ]
    }
   ],
   "source": [
    "from pyspark.sql.functions import concat_ws,col\n",
    "df=df.select(\"manufacturer_name\",concat_ws('_',df.manufacturer_name,df.model_name)\n",
    "              .alias(\"manufacturer_model\"),\"transmission\",\"color\",\"odometer_value\",\"year_produced\",\"engine_fuel\",\"engine_has_gas\",\n",
    "              \"engine_type\",\"engine_capacity\",\"body_type\",\"has_warranty\",\"state\",\"drivetrain\",\"price_usd\",\"is_exchangeable\",\n",
    "              \"location_region\",\"number_of_photos\",\"up_counter\",\"feature_0\",\"feature_1\",\"feature_2\",\"feature_3\",\"feature_4\",\n",
    "              \"feature_5\",\"feature_6\",\"feature_7\",\"feature_8\",\"feature_9\",\"duration_listed\")\n",
    "df.show(truncate=False)"
   ]
  },
  {
   "cell_type": "code",
   "execution_count": 6,
   "id": "10a8747e",
   "metadata": {},
   "outputs": [
    {
     "data": {
      "text/plain": [
       "38531"
      ]
     },
     "execution_count": 6,
     "metadata": {},
     "output_type": "execute_result"
    }
   ],
   "source": [
    "df.count()"
   ]
  },
  {
   "cell_type": "code",
   "execution_count": 7,
   "id": "473759f6",
   "metadata": {},
   "outputs": [],
   "source": [
    "df2 = df.where(df.odometer_value>1000)"
   ]
  },
  {
   "cell_type": "code",
   "execution_count": 12,
   "id": "644a7da2",
   "metadata": {},
   "outputs": [
    {
     "data": {
      "text/plain": [
       "37697"
      ]
     },
     "execution_count": 12,
     "metadata": {},
     "output_type": "execute_result"
    }
   ],
   "source": [
    "df2.count()"
   ]
  },
  {
   "cell_type": "code",
   "execution_count": 8,
   "id": "e5830d0c",
   "metadata": {},
   "outputs": [],
   "source": [
    "df3 = df2.where(df.price_usd>999)"
   ]
  },
  {
   "cell_type": "code",
   "execution_count": 14,
   "id": "5fbc02a9",
   "metadata": {},
   "outputs": [
    {
     "data": {
      "text/plain": [
       "34287"
      ]
     },
     "execution_count": 14,
     "metadata": {},
     "output_type": "execute_result"
    }
   ],
   "source": [
    "df3.count()"
   ]
  },
  {
   "cell_type": "code",
   "execution_count": 9,
   "id": "bc6966b3",
   "metadata": {},
   "outputs": [],
   "source": [
    "df = df3.dropDuplicates()"
   ]
  },
  {
   "cell_type": "code",
   "execution_count": 10,
   "id": "68df5379",
   "metadata": {},
   "outputs": [
    {
     "data": {
      "text/plain": [
       "34281"
      ]
     },
     "execution_count": 10,
     "metadata": {},
     "output_type": "execute_result"
    }
   ],
   "source": [
    "df.count()"
   ]
  },
  {
   "cell_type": "code",
   "execution_count": 17,
   "id": "678af739",
   "metadata": {},
   "outputs": [
    {
     "name": "stdout",
     "output_type": "stream",
     "text": [
      "+-------+-----------------+------------------+------------+------+------------------+------------------+-------------+-----------+------------------+---------+---------+----------+------------------+----------------+-----------------+------------------+------------------+\n",
      "|summary|manufacturer_name|manufacturer_model|transmission| color|    odometer_value|     year_produced|  engine_fuel|engine_type|   engine_capacity|body_type|    state|drivetrain|         price_usd| location_region| number_of_photos|        up_counter|   duration_listed|\n",
      "+-------+-----------------+------------------+------------+------+------------------+------------------+-------------+-----------+------------------+---------+---------+----------+------------------+----------------+-----------------+------------------+------------------+\n",
      "|  count|            34281|             34281|       34281| 34281|             34281|             34281|        34281|      34281|             34271|    34281|    34281|     34281|             34281|           34281|            34281|             34281|             34281|\n",
      "|   mean|             null|              null|        null|  null|249437.03019165134|2003.8674484408273|         null|       null|2.0931049575442797|     null|     null|      null|7026.6042052448865|            null|9.903503398383945|16.605204048890055| 82.12064992269771|\n",
      "| stddev|             null|              null|        null|  null|125885.42931738618|7.2689371351344585|         null|       null|0.6894464927315831|     null|     null|      null| 6056.600140327211|            null|6.185452663871652|  43.2988781386186|111.83561331107859|\n",
      "|    min|            Acura|          Acura_CL|   automatic| black|              1085|              1942|       diesel|     diesel|               0.2|cabriolet|emergency|       all|            1000.0|  Брестская обл.|                1|                 1|                 0|\n",
      "|    max|              УАЗ|       УАЗ_Patriot|  mechanical|yellow|           1000000|              2019|hybrid-petrol|   gasoline|               7.5|      van|    owned|      rear|           50000.0|Могилевская обл.|               86|              1861|              2232|\n",
      "+-------+-----------------+------------------+------------+------+------------------+------------------+-------------+-----------+------------------+---------+---------+----------+------------------+----------------+-----------------+------------------+------------------+\n",
      "\n"
     ]
    }
   ],
   "source": [
    "df_s = df.describe()\n",
    "df_s.show()"
   ]
  },
  {
   "cell_type": "code",
   "execution_count": 18,
   "id": "6c4f9314",
   "metadata": {},
   "outputs": [
    {
     "data": {
      "text/html": [
       "<div>\n",
       "<style scoped>\n",
       "    .dataframe tbody tr th:only-of-type {\n",
       "        vertical-align: middle;\n",
       "    }\n",
       "\n",
       "    .dataframe tbody tr th {\n",
       "        vertical-align: top;\n",
       "    }\n",
       "\n",
       "    .dataframe thead th {\n",
       "        text-align: right;\n",
       "    }\n",
       "</style>\n",
       "<table border=\"1\" class=\"dataframe\">\n",
       "  <thead>\n",
       "    <tr style=\"text-align: right;\">\n",
       "      <th></th>\n",
       "      <th>summary</th>\n",
       "      <th>manufacturer_name</th>\n",
       "      <th>manufacturer_model</th>\n",
       "      <th>transmission</th>\n",
       "      <th>color</th>\n",
       "      <th>odometer_value</th>\n",
       "      <th>year_produced</th>\n",
       "      <th>engine_fuel</th>\n",
       "      <th>engine_type</th>\n",
       "      <th>engine_capacity</th>\n",
       "      <th>body_type</th>\n",
       "      <th>state</th>\n",
       "      <th>drivetrain</th>\n",
       "      <th>price_usd</th>\n",
       "      <th>location_region</th>\n",
       "      <th>number_of_photos</th>\n",
       "      <th>up_counter</th>\n",
       "      <th>duration_listed</th>\n",
       "    </tr>\n",
       "  </thead>\n",
       "  <tbody>\n",
       "    <tr>\n",
       "      <th>0</th>\n",
       "      <td>count</td>\n",
       "      <td>34281</td>\n",
       "      <td>34281</td>\n",
       "      <td>34281</td>\n",
       "      <td>34281</td>\n",
       "      <td>34281</td>\n",
       "      <td>34281</td>\n",
       "      <td>34281</td>\n",
       "      <td>34281</td>\n",
       "      <td>34271</td>\n",
       "      <td>34281</td>\n",
       "      <td>34281</td>\n",
       "      <td>34281</td>\n",
       "      <td>34281</td>\n",
       "      <td>34281</td>\n",
       "      <td>34281</td>\n",
       "      <td>34281</td>\n",
       "      <td>34281</td>\n",
       "    </tr>\n",
       "    <tr>\n",
       "      <th>1</th>\n",
       "      <td>mean</td>\n",
       "      <td>None</td>\n",
       "      <td>None</td>\n",
       "      <td>None</td>\n",
       "      <td>None</td>\n",
       "      <td>249437.03019165134</td>\n",
       "      <td>2003.8674484408273</td>\n",
       "      <td>None</td>\n",
       "      <td>None</td>\n",
       "      <td>2.0931049575442797</td>\n",
       "      <td>None</td>\n",
       "      <td>None</td>\n",
       "      <td>None</td>\n",
       "      <td>7026.6042052448865</td>\n",
       "      <td>None</td>\n",
       "      <td>9.903503398383945</td>\n",
       "      <td>16.605204048890055</td>\n",
       "      <td>82.12064992269771</td>\n",
       "    </tr>\n",
       "    <tr>\n",
       "      <th>2</th>\n",
       "      <td>stddev</td>\n",
       "      <td>None</td>\n",
       "      <td>None</td>\n",
       "      <td>None</td>\n",
       "      <td>None</td>\n",
       "      <td>125885.42931738618</td>\n",
       "      <td>7.2689371351344585</td>\n",
       "      <td>None</td>\n",
       "      <td>None</td>\n",
       "      <td>0.6894464927315831</td>\n",
       "      <td>None</td>\n",
       "      <td>None</td>\n",
       "      <td>None</td>\n",
       "      <td>6056.600140327211</td>\n",
       "      <td>None</td>\n",
       "      <td>6.185452663871652</td>\n",
       "      <td>43.2988781386186</td>\n",
       "      <td>111.83561331107859</td>\n",
       "    </tr>\n",
       "    <tr>\n",
       "      <th>3</th>\n",
       "      <td>min</td>\n",
       "      <td>Acura</td>\n",
       "      <td>Acura_CL</td>\n",
       "      <td>automatic</td>\n",
       "      <td>black</td>\n",
       "      <td>1085</td>\n",
       "      <td>1942</td>\n",
       "      <td>diesel</td>\n",
       "      <td>diesel</td>\n",
       "      <td>0.2</td>\n",
       "      <td>cabriolet</td>\n",
       "      <td>emergency</td>\n",
       "      <td>all</td>\n",
       "      <td>1000.0</td>\n",
       "      <td>Брестская обл.</td>\n",
       "      <td>1</td>\n",
       "      <td>1</td>\n",
       "      <td>0</td>\n",
       "    </tr>\n",
       "    <tr>\n",
       "      <th>4</th>\n",
       "      <td>max</td>\n",
       "      <td>УАЗ</td>\n",
       "      <td>УАЗ_Patriot</td>\n",
       "      <td>mechanical</td>\n",
       "      <td>yellow</td>\n",
       "      <td>1000000</td>\n",
       "      <td>2019</td>\n",
       "      <td>hybrid-petrol</td>\n",
       "      <td>gasoline</td>\n",
       "      <td>7.5</td>\n",
       "      <td>van</td>\n",
       "      <td>owned</td>\n",
       "      <td>rear</td>\n",
       "      <td>50000.0</td>\n",
       "      <td>Могилевская обл.</td>\n",
       "      <td>86</td>\n",
       "      <td>1861</td>\n",
       "      <td>2232</td>\n",
       "    </tr>\n",
       "  </tbody>\n",
       "</table>\n",
       "</div>"
      ],
      "text/plain": [
       "  summary manufacturer_name manufacturer_model transmission   color  \\\n",
       "0   count             34281              34281        34281   34281   \n",
       "1    mean              None               None         None    None   \n",
       "2  stddev              None               None         None    None   \n",
       "3     min             Acura           Acura_CL    automatic   black   \n",
       "4     max               УАЗ        УАЗ_Patriot   mechanical  yellow   \n",
       "\n",
       "       odometer_value       year_produced    engine_fuel engine_type  \\\n",
       "0               34281               34281          34281       34281   \n",
       "1  249437.03019165134  2003.8674484408273           None        None   \n",
       "2  125885.42931738618  7.2689371351344585           None        None   \n",
       "3                1085                1942         diesel      diesel   \n",
       "4             1000000                2019  hybrid-petrol    gasoline   \n",
       "\n",
       "      engine_capacity  body_type      state drivetrain           price_usd  \\\n",
       "0               34271      34281      34281      34281               34281   \n",
       "1  2.0931049575442797       None       None       None  7026.6042052448865   \n",
       "2  0.6894464927315831       None       None       None   6056.600140327211   \n",
       "3                 0.2  cabriolet  emergency        all              1000.0   \n",
       "4                 7.5        van      owned       rear             50000.0   \n",
       "\n",
       "    location_region   number_of_photos          up_counter     duration_listed  \n",
       "0             34281              34281               34281               34281  \n",
       "1              None  9.903503398383945  16.605204048890055   82.12064992269771  \n",
       "2              None  6.185452663871652    43.2988781386186  111.83561331107859  \n",
       "3    Брестская обл.                  1                   1                   0  \n",
       "4  Могилевская обл.                 86                1861                2232  "
      ]
     },
     "execution_count": 18,
     "metadata": {},
     "output_type": "execute_result"
    }
   ],
   "source": [
    "df_s1 = df_s.toPandas()\n",
    "df_s1"
   ]
  },
  {
   "cell_type": "code",
   "execution_count": 11,
   "id": "9c3d112d",
   "metadata": {},
   "outputs": [],
   "source": [
    "from pyspark.sql.functions import col,isnan, when, count\n",
    "df5 = df.select([count(when(col(c).isNull(), c)).alias(c) for c in df.columns])"
   ]
  },
  {
   "cell_type": "code",
   "execution_count": 12,
   "id": "a06e483c",
   "metadata": {},
   "outputs": [
    {
     "data": {
      "text/plain": [
       "{'manufacturer_name': 0,\n",
       " 'manufacturer_model': 0,\n",
       " 'transmission': 0,\n",
       " 'color': 0,\n",
       " 'odometer_value': 0,\n",
       " 'year_produced': 0,\n",
       " 'engine_fuel': 0,\n",
       " 'engine_has_gas': 0,\n",
       " 'engine_type': 0,\n",
       " 'engine_capacity': 10,\n",
       " 'body_type': 0,\n",
       " 'has_warranty': 0,\n",
       " 'state': 0,\n",
       " 'drivetrain': 0,\n",
       " 'price_usd': 0,\n",
       " 'is_exchangeable': 0,\n",
       " 'location_region': 0,\n",
       " 'number_of_photos': 0,\n",
       " 'up_counter': 0,\n",
       " 'feature_0': 0,\n",
       " 'feature_1': 0,\n",
       " 'feature_2': 0,\n",
       " 'feature_3': 0,\n",
       " 'feature_4': 0,\n",
       " 'feature_5': 0,\n",
       " 'feature_6': 0,\n",
       " 'feature_7': 0,\n",
       " 'feature_8': 0,\n",
       " 'feature_9': 0,\n",
       " 'duration_listed': 0}"
      ]
     },
     "execution_count": 12,
     "metadata": {},
     "output_type": "execute_result"
    }
   ],
   "source": [
    "df5.collect()[0].asDict()"
   ]
  },
  {
   "cell_type": "code",
   "execution_count": 13,
   "id": "ec67d0b5",
   "metadata": {},
   "outputs": [],
   "source": [
    "df = df.na.drop()"
   ]
  },
  {
   "cell_type": "code",
   "execution_count": 14,
   "id": "cc371dbf",
   "metadata": {},
   "outputs": [
    {
     "data": {
      "text/plain": [
       "34271"
      ]
     },
     "execution_count": 14,
     "metadata": {},
     "output_type": "execute_result"
    }
   ],
   "source": [
    "df.count()"
   ]
  },
  {
   "cell_type": "code",
   "execution_count": 23,
   "id": "e71b2e5b",
   "metadata": {},
   "outputs": [
    {
     "name": "stdout",
     "output_type": "stream",
     "text": [
      "+-----------------+------------------+------------+-----+--------------+-------------+-----------+--------------+-----------+---------------+---------+------------+-----+----------+---------+---------------+---------------+----------------+----------+---------+---------+---------+---------+---------+---------+---------+---------+---------+---------+---------------+\n",
      "|manufacturer_name|manufacturer_model|transmission|color|odometer_value|year_produced|engine_fuel|engine_has_gas|engine_type|engine_capacity|body_type|has_warranty|state|drivetrain|price_usd|is_exchangeable|location_region|number_of_photos|up_counter|feature_0|feature_1|feature_2|feature_3|feature_4|feature_5|feature_6|feature_7|feature_8|feature_9|duration_listed|\n",
      "+-----------------+------------------+------------+-----+--------------+-------------+-----------+--------------+-----------+---------------+---------+------------+-----+----------+---------+---------------+---------------+----------------+----------+---------+---------+---------+---------+---------+---------+---------+---------+---------+---------+---------------+\n",
      "|                0|                 0|           0|    0|             0|            0|          0|             0|          0|              0|        0|           0|    0|         0|        0|              0|              0|               0|         0|        0|        0|        0|        0|        0|        0|        0|        0|        0|        0|              0|\n",
      "+-----------------+------------------+------------+-----+--------------+-------------+-----------+--------------+-----------+---------------+---------+------------+-----+----------+---------+---------------+---------------+----------------+----------+---------+---------+---------+---------+---------+---------+---------+---------+---------+---------+---------------+\n",
      "\n"
     ]
    }
   ],
   "source": [
    "from pyspark.sql.functions import col,isnan, when, count\n",
    "df6 = df.select([count(when(col(c).isNull(), c)).alias(c) for c in df.columns]).show()"
   ]
  },
  {
   "cell_type": "code",
   "execution_count": 15,
   "id": "3e9300a6",
   "metadata": {},
   "outputs": [],
   "source": [
    "from pyspark.ml.regression import LinearRegression"
   ]
  },
  {
   "cell_type": "code",
   "execution_count": 16,
   "id": "a3a852ac",
   "metadata": {},
   "outputs": [],
   "source": [
    "from pyspark.ml.linalg import Vectors\n",
    "from pyspark.ml.feature import VectorAssembler"
   ]
  },
  {
   "cell_type": "code",
   "execution_count": 46,
   "id": "1b93c1fd",
   "metadata": {},
   "outputs": [],
   "source": [
    "featureassembler = VectorAssembler(inputCols = ['odometer_value','year_produced','engine_capacity','number_of_photos',\n",
    "                                                'up_counter'],outputCol = \"Independent Features\")    "
   ]
  },
  {
   "cell_type": "code",
   "execution_count": 47,
   "id": "d3d6a99e",
   "metadata": {},
   "outputs": [],
   "source": [
    "output = featureassembler.transform(df)"
   ]
  },
  {
   "cell_type": "code",
   "execution_count": 48,
   "id": "198d0e39",
   "metadata": {},
   "outputs": [
    {
     "name": "stdout",
     "output_type": "stream",
     "text": [
      "+-----------------+--------------------+------------+------+--------------+-------------+-----------+--------------+-----------+---------------+---------+------------+-----+----------+---------+---------------+----------------+----------------+----------+---------+---------+---------+---------+---------+---------+---------+---------+---------+---------+---------------+--------------------+\n",
      "|manufacturer_name|  manufacturer_model|transmission| color|odometer_value|year_produced|engine_fuel|engine_has_gas|engine_type|engine_capacity|body_type|has_warranty|state|drivetrain|price_usd|is_exchangeable| location_region|number_of_photos|up_counter|feature_0|feature_1|feature_2|feature_3|feature_4|feature_5|feature_6|feature_7|feature_8|feature_9|duration_listed|Independent Features|\n",
      "+-----------------+--------------------+------------+------+--------------+-------------+-----------+--------------+-----------+---------------+---------+------------+-----+----------+---------+---------------+----------------+----------------+----------+---------+---------+---------+---------+---------+---------+---------+---------+---------+---------+---------------+--------------------+\n",
      "|           Subaru|     Subaru_Forester|  mechanical|  blue|        296000|         2003|        gas|          true|   gasoline|            2.0|universal|       false|owned|       all|   6150.0|          false|    Минская обл.|               7|         6|    false|    false|    false|    false|    false|     true|    false|    false|    false|    false|             10|[296000.0,2003.0,...|\n",
      "|            Dodge|       Dodge_Caravan|   automatic|silver|        170000|         2003|   gasoline|         false|   gasoline|            2.4|  minivan|       false|owned|     front|   3500.0|          false|    Минская обл.|               4|         2|    false|     true|    false|    false|    false|    false|    false|    false|    false|    false|             83|[170000.0,2003.0,...|\n",
      "|              Kia|         Kia_Sorento|   automatic| other|        144841|         2010|   gasoline|         false|   gasoline|            2.4|      suv|       false|owned|     front|  12000.0|          false|  Витебская обл.|               5|        18|    false|     true|    false|     true|    false|     true|     true|     true|     true|     true|             54|[144841.0,2010.0,...|\n",
      "|              Kia|             Kia_Rio|  mechanical|silver|        229000|         2008|     diesel|         false|     diesel|            1.5|    sedan|       false|owned|     front|   5300.0|          false|    Минская обл.|               8|        31|    false|     true|    false|    false|    false|    false|    false|    false|    false|    false|             69|[229000.0,2008.0,...|\n",
      "|              Kia|         Kia_Sorento|   automatic| other|        251058|         2004|        gas|          true|   gasoline|            3.5|      suv|       false|owned|      rear|   6250.0|          false|  Брестская обл.|               1|         1|    false|     true|    false|    false|    false|    false|    false|    false|    false|    false|             40|[251058.0,2004.0,...|\n",
      "|             Opel|         Opel_Vectra|  mechanical|silver|        225000|         2003|     diesel|         false|     diesel|            2.2|universal|       false|owned|     front|   4300.0|          false|    Минская обл.|              10|         4|    false|    false|    false|    false|    false|    false|    false|    false|     true|     true|            119|[225000.0,2003.0,...|\n",
      "|             Opel|          Opel_Omega|  mechanical| white|        400000|         1994|   gasoline|         false|   gasoline|            2.0|    sedan|       false|owned|      rear|   2000.0|           true|    Минская обл.|              10|         2|    false|    false|     true|    false|    false|    false|    false|    false|    false|     true|              4|[400000.0,1994.0,...|\n",
      "|             Opel|          Opel_Corsa|  mechanical|orange|         70840|         2012|   gasoline|         false|   gasoline|            1.6|hatchback|       false|owned|     front| 10860.29|          false|    Минская обл.|              15|         7|     true|    false|    false|    false|    false|    false|    false|    false|    false|    false|             11|[70840.0,2012.0,1...|\n",
      "|             Opel|          Opel_Omega|   automatic| black|        420000|         1998|     diesel|         false|     diesel|            2.5|universal|       false|owned|      rear|   2400.0|          false|    Минская обл.|               7|         2|    false|     true|    false|    false|     true|     true|    false|    false|    false|    false|             77|[420000.0,1998.0,...|\n",
      "|             Opel|         Opel_Vectra|  mechanical|  grey|        193000|         1996|   gasoline|         false|   gasoline|            1.6|    sedan|       false|owned|     front|   2000.0|           true|Могилевская обл.|               1|         8|     true|    false|    false|    false|    false|    false|    false|    false|    false|    false|             63|[193000.0,1996.0,...|\n",
      "|             Opel|          Opel_Astra|  mechanical| black|        225000|         2005|   gasoline|         false|   gasoline|            1.8|hatchback|       false|owned|     front|   4590.0|          false|Могилевская обл.|              10|         2|    false|     true|    false|    false|    false|    false|    false|    false|     true|     true|             36|[225000.0,2005.0,...|\n",
      "|             Opel|         Opel_Zafira|  mechanical| black|        270000|         2006|     diesel|         false|     diesel|            1.9|  minivan|       false|owned|     front|   7000.0|          false|Могилевская обл.|               2|         4|    false|     true|    false|    false|    false|    false|    false|     true|     true|     true|             90|[270000.0,2006.0,...|\n",
      "|             Opel|          Opel_Astra|  mechanical|  grey|        245000|         2011|     diesel|         false|     diesel|            1.3|universal|       false|owned|     front|   8300.0|          false|  Брестская обл.|               8|         8|    false|     true|    false|     true|    false|     true|     true|     true|     true|     true|             79|[245000.0,2011.0,...|\n",
      "|       Alfa Romeo|      Alfa Romeo_156|  mechanical| black|        300000|         1998|   gasoline|         false|   gasoline|            1.8|    sedan|       false|owned|     front|   1650.0|          false|    Минская обл.|               3|         1|    false|     true|    false|    false|    false|    false|    false|    false|    false|     true|             69|[300000.0,1998.0,...|\n",
      "|       Mitsubishi|Mitsubishi_Outlander|   automatic|silver|        202000|         2006|   gasoline|         false|   gasoline|            2.4|      suv|       false|owned|       all|   6500.0|          false|    Минская обл.|               5|        10|    false|     true|    false|    false|    false|     true|    false|    false|    false|     true|             79|[202000.0,2006.0,...|\n",
      "|       Mitsubishi|   Mitsubishi_Galant|  mechanical|  grey|        250000|         1993|   gasoline|         false|   gasoline|            2.0|hatchback|       false|owned|     front|   1400.0|           true|    Минская обл.|               7|        10|    false|    false|    false|    false|    false|    false|    false|    false|    false|     true|             25|[250000.0,1993.0,...|\n",
      "|       Mitsubishi|     Mitsubishi_Colt|  mechanical|  grey|        215000|         2006|   gasoline|         false|   gasoline|            1.3|hatchback|       false|owned|     front|   3900.0|          false|    Минская обл.|               6|        10|    false|     true|    false|    false|    false|     true|    false|    false|    false|    false|             97|[215000.0,2006.0,...|\n",
      "|       Mitsubishi|Mitsubishi_Outlander|   automatic|  blue|         61000|         2016|   gasoline|         false|   gasoline|            2.0|      suv|       false|owned|       all|  20002.0|          false|    Минская обл.|               3|         1|    false|     true|    false|    false|     true|     true|     true|     true|     true|     true|             67|[61000.0,2016.0,2...|\n",
      "|          Citroen|    Citroen_C-ELYSÉE|  mechanical| white|         40130|         2016|   gasoline|         false|   gasoline|            1.6|    sedan|       false|owned|     front|   8900.0|           true|    Минская обл.|              18|        51|    false|     true|    false|     true|    false|     true|     true|     true|     true|     true|             61|[40130.0,2016.0,1...|\n",
      "|          Citroen|       Citroen_Xsara|  mechanical|silver|        300000|         1999|   gasoline|         false|   gasoline|            1.6|universal|       false|owned|     front|   2000.0|           true|  Витебская обл.|               6|        13|     true|    false|    false|    false|    false|    false|    false|    false|    false|    false|             24|[300000.0,1999.0,...|\n",
      "+-----------------+--------------------+------------+------+--------------+-------------+-----------+--------------+-----------+---------------+---------+------------+-----+----------+---------+---------------+----------------+----------------+----------+---------+---------+---------+---------+---------+---------+---------+---------+---------+---------+---------------+--------------------+\n",
      "only showing top 20 rows\n",
      "\n"
     ]
    }
   ],
   "source": [
    "output.show()"
   ]
  },
  {
   "cell_type": "code",
   "execution_count": 49,
   "id": "15e0c78b",
   "metadata": {},
   "outputs": [
    {
     "name": "stdout",
     "output_type": "stream",
     "text": [
      "+--------------------+\n",
      "|Independent Features|\n",
      "+--------------------+\n",
      "|[296000.0,2003.0,...|\n",
      "|[170000.0,2003.0,...|\n",
      "|[144841.0,2010.0,...|\n",
      "|[229000.0,2008.0,...|\n",
      "|[251058.0,2004.0,...|\n",
      "|[225000.0,2003.0,...|\n",
      "|[400000.0,1994.0,...|\n",
      "|[70840.0,2012.0,1...|\n",
      "|[420000.0,1998.0,...|\n",
      "|[193000.0,1996.0,...|\n",
      "|[225000.0,2005.0,...|\n",
      "|[270000.0,2006.0,...|\n",
      "|[245000.0,2011.0,...|\n",
      "|[300000.0,1998.0,...|\n",
      "|[202000.0,2006.0,...|\n",
      "|[250000.0,1993.0,...|\n",
      "|[215000.0,2006.0,...|\n",
      "|[61000.0,2016.0,2...|\n",
      "|[40130.0,2016.0,1...|\n",
      "|[300000.0,1999.0,...|\n",
      "+--------------------+\n",
      "only showing top 20 rows\n",
      "\n"
     ]
    }
   ],
   "source": [
    "output.select(\"Independent Features\").show()"
   ]
  },
  {
   "cell_type": "code",
   "execution_count": 50,
   "id": "02552032",
   "metadata": {},
   "outputs": [],
   "source": [
    "finalized_data = output.select(\"Independent Features\", \"price_usd\")"
   ]
  },
  {
   "cell_type": "code",
   "execution_count": 51,
   "id": "69e47202",
   "metadata": {},
   "outputs": [
    {
     "name": "stdout",
     "output_type": "stream",
     "text": [
      "+--------------------+---------+\n",
      "|Independent Features|price_usd|\n",
      "+--------------------+---------+\n",
      "|[296000.0,2003.0,...|   6150.0|\n",
      "|[170000.0,2003.0,...|   3500.0|\n",
      "|[144841.0,2010.0,...|  12000.0|\n",
      "|[229000.0,2008.0,...|   5300.0|\n",
      "|[251058.0,2004.0,...|   6250.0|\n",
      "|[225000.0,2003.0,...|   4300.0|\n",
      "|[400000.0,1994.0,...|   2000.0|\n",
      "|[70840.0,2012.0,1...| 10860.29|\n",
      "|[420000.0,1998.0,...|   2400.0|\n",
      "|[193000.0,1996.0,...|   2000.0|\n",
      "|[225000.0,2005.0,...|   4590.0|\n",
      "|[270000.0,2006.0,...|   7000.0|\n",
      "|[245000.0,2011.0,...|   8300.0|\n",
      "|[300000.0,1998.0,...|   1650.0|\n",
      "|[202000.0,2006.0,...|   6500.0|\n",
      "|[250000.0,1993.0,...|   1400.0|\n",
      "|[215000.0,2006.0,...|   3900.0|\n",
      "|[61000.0,2016.0,2...|  20002.0|\n",
      "|[40130.0,2016.0,1...|   8900.0|\n",
      "|[300000.0,1999.0,...|   2000.0|\n",
      "+--------------------+---------+\n",
      "only showing top 20 rows\n",
      "\n"
     ]
    }
   ],
   "source": [
    "finalized_data.show()"
   ]
  },
  {
   "cell_type": "code",
   "execution_count": 52,
   "id": "dbd89885",
   "metadata": {},
   "outputs": [],
   "source": [
    "train_data, test_data = finalized_data.randomSplit([0.75,0.25])"
   ]
  },
  {
   "cell_type": "code",
   "execution_count": 53,
   "id": "c2aa0598",
   "metadata": {},
   "outputs": [],
   "source": [
    "regressor = LinearRegression(featuresCol = 'Independent Features', labelCol = 'price_usd')\n",
    "regressor = regressor.fit(train_data)"
   ]
  },
  {
   "cell_type": "code",
   "execution_count": 54,
   "id": "676ebbd7",
   "metadata": {},
   "outputs": [
    {
     "data": {
      "text/plain": [
       "DenseVector([-0.0058, 510.9969, 3020.8687, 99.7248, 2.1943])"
      ]
     },
     "execution_count": 54,
     "metadata": {},
     "output_type": "execute_result"
    }
   ],
   "source": [
    "regressor.coefficients"
   ]
  },
  {
   "cell_type": "code",
   "execution_count": 55,
   "id": "0708c3cc",
   "metadata": {},
   "outputs": [
    {
     "data": {
      "text/plain": [
       "-1022869.2963338153"
      ]
     },
     "execution_count": 55,
     "metadata": {},
     "output_type": "execute_result"
    }
   ],
   "source": [
    "regressor.intercept"
   ]
  },
  {
   "cell_type": "code",
   "execution_count": 56,
   "id": "b3bd199a",
   "metadata": {},
   "outputs": [],
   "source": [
    "pred_results = regressor.evaluate(test_data)"
   ]
  },
  {
   "cell_type": "code",
   "execution_count": 57,
   "id": "4eb2c44c",
   "metadata": {},
   "outputs": [
    {
     "name": "stdout",
     "output_type": "stream",
     "text": [
      "+--------------------+---------+------------------+\n",
      "|Independent Features|price_usd|        prediction|\n",
      "+--------------------+---------+------------------+\n",
      "|[28000.0,2005.0,1...|   4100.0| 7076.309473310248|\n",
      "|[38180.0,2016.0,2...|  23900.0|15058.862195174326|\n",
      "|[39000.0,2018.0,1...|  20500.0|14537.137478723424|\n",
      "|[68000.0,2014.0,1...|   4500.0|10819.443976322538|\n",
      "|[74000.0,2013.0,2...|  10100.0|11598.065973762074|\n",
      "|[80000.0,2016.0,1...|  12999.0|12380.218552937848|\n",
      "|[97380.0,2013.0,1...|   5000.0|10036.720198115567|\n",
      "|[98000.0,2014.0,2...|   8950.0|13453.642415252514|\n",
      "|[105000.0,2015.0,...|  16500.0|14493.871835459722|\n",
      "|[112900.0,2014.0,...|  16500.0|12971.184250420309|\n",
      "|[115000.0,2008.0,...|   8000.0| 9449.349845504621|\n",
      "|[145000.0,2010.0,...|   6000.0| 8940.145371981314|\n",
      "|[150000.0,2005.0,...|   5800.0| 6518.760504571372|\n",
      "|[152000.0,2015.0,...|  15700.0|11665.263772681472|\n",
      "|[177000.0,2015.0,...|  15900.0|11111.511869539623|\n",
      "|[189500.0,2006.0,...|   5850.0| 9261.300121442066|\n",
      "|[190000.0,2007.0,...|   8999.0| 21031.75609877426|\n",
      "|[193000.0,1996.0,...|   2000.0| 920.3651389218867|\n",
      "|[195000.0,2006.0,...|   5800.0| 5509.267513579107|\n",
      "|[200000.0,2008.0,...|   6500.0| 7803.256080423598|\n",
      "+--------------------+---------+------------------+\n",
      "only showing top 20 rows\n",
      "\n"
     ]
    }
   ],
   "source": [
    "pred_results.predictions.show()"
   ]
  },
  {
   "cell_type": "code",
   "execution_count": 62,
   "id": "b80a78f0",
   "metadata": {},
   "outputs": [],
   "source": [
    "summ = regressor.summary"
   ]
  },
  {
   "cell_type": "code",
   "execution_count": 63,
   "id": "261e12c6",
   "metadata": {},
   "outputs": [
    {
     "data": {
      "text/plain": [
       "3796.0845819535025"
      ]
     },
     "execution_count": 63,
     "metadata": {},
     "output_type": "execute_result"
    }
   ],
   "source": [
    "summ.rootMeanSquaredError"
   ]
  },
  {
   "cell_type": "code",
   "execution_count": 64,
   "id": "67a64707",
   "metadata": {},
   "outputs": [
    {
     "data": {
      "text/plain": [
       "0.6069611274023592"
      ]
     },
     "execution_count": 64,
     "metadata": {},
     "output_type": "execute_result"
    }
   ],
   "source": [
    "summ.r2"
   ]
  },
  {
   "cell_type": "code",
   "execution_count": 66,
   "id": "f2b4059e",
   "metadata": {},
   "outputs": [
    {
     "name": "stdout",
     "output_type": "stream",
     "text": [
      "Coefficients: [-0.005753998811719239,510.9737672557907,3020.4966122508104,99.70062162337105,2.189449708891851]\n",
      "Intercept: -1022822.211098015\n"
     ]
    }
   ],
   "source": [
    "from pyspark.ml.regression import LinearRegression\n",
    "lr = LinearRegression(featuresCol = 'Independent Features', labelCol='price_usd', maxIter=10, regParam=0.3, elasticNetParam=0.8)\n",
    "lr_model = lr.fit(train_data)\n",
    "print(\"Coefficients: \" + str(lr_model.coefficients))\n",
    "print(\"Intercept: \" + str(lr_model.intercept))"
   ]
  },
  {
   "cell_type": "code",
   "execution_count": 67,
   "id": "a20c3120",
   "metadata": {},
   "outputs": [
    {
     "name": "stdout",
     "output_type": "stream",
     "text": [
      "RMSE: 3796.084613\n",
      "r2: 0.606961\n"
     ]
    }
   ],
   "source": [
    "trainingSummary = lr_model.summary\n",
    "print(\"RMSE: %f\" % trainingSummary.rootMeanSquaredError)\n",
    "print(\"r2: %f\" % trainingSummary.r2)"
   ]
  },
  {
   "cell_type": "code",
   "execution_count": 69,
   "id": "4f676f4f",
   "metadata": {},
   "outputs": [
    {
     "name": "stdout",
     "output_type": "stream",
     "text": [
      "+------------------+---------+--------------------+\n",
      "|        prediction|price_usd|Independent Features|\n",
      "+------------------+---------+--------------------+\n",
      "|  7075.89129085117|   4100.0|[28000.0,2005.0,1...|\n",
      "|15058.120594842127|  23900.0|[38180.0,2016.0,2...|\n",
      "|14536.724288216676|  20500.0|[39000.0,2018.0,1...|\n",
      "|10819.421090529184|   4500.0|[68000.0,2014.0,1...|\n",
      "|11597.907091535046|  10100.0|[74000.0,2013.0,2...|\n",
      "+------------------+---------+--------------------+\n",
      "only showing top 5 rows\n",
      "\n",
      "R Squared (R2) on test data = 0.604555\n"
     ]
    }
   ],
   "source": [
    "lr_predictions = lr_model.transform(test_data)\n",
    "lr_predictions.select(\"prediction\",\"price_usd\",\"Independent Features\").show(5)\n",
    "from pyspark.ml.evaluation import RegressionEvaluator\n",
    "lr_evaluator = RegressionEvaluator(predictionCol=\"prediction\", \\\n",
    "                 labelCol=\"price_usd\",metricName=\"r2\")\n",
    "print(\"R Squared (R2) on test data = %g\" % lr_evaluator.evaluate(lr_predictions))"
   ]
  },
  {
   "cell_type": "code",
   "execution_count": 76,
   "id": "a56e998a",
   "metadata": {},
   "outputs": [
    {
     "name": "stdout",
     "output_type": "stream",
     "text": [
      "Root Mean Squared Error (RMSE) on test data = 3802.68\n",
      "R2 on test data = 0.604555\n"
     ]
    }
   ],
   "source": [
    "test_result = lr_model.evaluate(test_data)\n",
    "print(\"Root Mean Squared Error (RMSE) on test data = %g\" % test_result.rootMeanSquaredError)\n",
    "print(\"R2 on test data = %g\" % test_result.r2)"
   ]
  },
  {
   "cell_type": "code",
   "execution_count": 79,
   "id": "709f1612",
   "metadata": {},
   "outputs": [
    {
     "name": "stdout",
     "output_type": "stream",
     "text": [
      "Root Mean Squared Error (RMSE) on test data = 2863.53\n"
     ]
    }
   ],
   "source": [
    "from pyspark.ml.regression import DecisionTreeRegressor\n",
    "dt = DecisionTreeRegressor(featuresCol ='Independent Features', labelCol = 'price_usd')\n",
    "dt_model = dt.fit(train_data)\n",
    "dt_predictions = dt_model.transform(test_data)\n",
    "dt_evaluator = RegressionEvaluator(\n",
    "    labelCol=\"price_usd\", predictionCol=\"prediction\", metricName=\"rmse\")\n",
    "rmse = dt_evaluator.evaluate(dt_predictions)\n",
    "print(\"Root Mean Squared Error (RMSE) on test data = %g\" % rmse)"
   ]
  },
  {
   "cell_type": "code",
   "execution_count": 72,
   "id": "981179c8",
   "metadata": {},
   "outputs": [
    {
     "data": {
      "text/plain": [
       "SparseVector(5, {1: 0.7604, 2: 0.2396})"
      ]
     },
     "execution_count": 72,
     "metadata": {},
     "output_type": "execute_result"
    }
   ],
   "source": [
    "dt_model.featureImportances"
   ]
  },
  {
   "cell_type": "code",
   "execution_count": 73,
   "id": "f5517d43",
   "metadata": {},
   "outputs": [
    {
     "data": {
      "text/plain": [
       "[Row(manufacturer_name='Subaru', manufacturer_model='Subaru_Forester', transmission='mechanical', color='blue', odometer_value=296000, year_produced=2003, engine_fuel='gas', engine_has_gas=True, engine_type='gasoline', engine_capacity=2.0, body_type='universal', has_warranty=False, state='owned', drivetrain='all', price_usd=6150.0, is_exchangeable=False, location_region='Минская обл.', number_of_photos=7, up_counter=6, feature_0=False, feature_1=False, feature_2=False, feature_3=False, feature_4=False, feature_5=True, feature_6=False, feature_7=False, feature_8=False, feature_9=False, duration_listed=10)]"
      ]
     },
     "execution_count": 73,
     "metadata": {},
     "output_type": "execute_result"
    }
   ],
   "source": [
    "df.take(1)"
   ]
  },
  {
   "cell_type": "code",
   "execution_count": 74,
   "id": "2578b2ae",
   "metadata": {},
   "outputs": [
    {
     "name": "stdout",
     "output_type": "stream",
     "text": [
      "+------------------+---------+--------------------+\n",
      "|        prediction|price_usd|Independent Features|\n",
      "+------------------+---------+--------------------+\n",
      "| 4265.558683493543|   4100.0|[28000.0,2005.0,1...|\n",
      "|22804.636793836617|  23900.0|[38180.0,2016.0,2...|\n",
      "| 15369.29710296091|  20500.0|[39000.0,2018.0,1...|\n",
      "|10414.663073874013|   4500.0|[68000.0,2014.0,1...|\n",
      "| 15706.38714723608|  10100.0|[74000.0,2013.0,2...|\n",
      "+------------------+---------+--------------------+\n",
      "only showing top 5 rows\n",
      "\n"
     ]
    }
   ],
   "source": [
    "from pyspark.ml.regression import GBTRegressor\n",
    "gbt = GBTRegressor(featuresCol = 'Independent Features', labelCol = 'price_usd', maxIter=10)\n",
    "gbt_model = gbt.fit(train_data)\n",
    "gbt_predictions = gbt_model.transform(test_data)\n",
    "gbt_predictions.select('prediction', 'price_usd', 'Independent Features').show(5)"
   ]
  },
  {
   "cell_type": "code",
   "execution_count": 75,
   "id": "0e79fecc",
   "metadata": {},
   "outputs": [
    {
     "name": "stdout",
     "output_type": "stream",
     "text": [
      "Root Mean Squared Error (RMSE) on test data = 2758.73\n"
     ]
    }
   ],
   "source": [
    "gbt_evaluator = RegressionEvaluator(\n",
    "    labelCol=\"price_usd\", predictionCol=\"prediction\", metricName=\"rmse\")\n",
    "rmse = gbt_evaluator.evaluate(gbt_predictions)\n",
    "print(\"Root Mean Squared Error (RMSE) on test data = %g\" % rmse)"
   ]
  },
  {
   "cell_type": "code",
   "execution_count": 183,
   "id": "dc29253a",
   "metadata": {},
   "outputs": [
    {
     "name": "stdout",
     "output_type": "stream",
     "text": [
      "+-----------------+--------------------+------------+------+--------------+-------------+-----------+--------------+-----------+---------------+---------+------------+-----+----------+---------+---------------+----------------+----------------+----------+---------+---------+---------+---------+---------+---------+---------+---------+---------+---------+---------------+-----------------+\n",
      "|manufacturer_name|  manufacturer_model|transmission| color|odometer_value|year_produced|engine_fuel|engine_has_gas|engine_type|engine_capacity|body_type|has_warranty|state|drivetrain|price_usd|is_exchangeable| location_region|number_of_photos|up_counter|feature_0|feature_1|feature_2|feature_3|feature_4|feature_5|feature_6|feature_7|feature_8|feature_9|duration_listed|transmissionIndex|\n",
      "+-----------------+--------------------+------------+------+--------------+-------------+-----------+--------------+-----------+---------------+---------+------------+-----+----------+---------+---------------+----------------+----------------+----------+---------+---------+---------+---------+---------+---------+---------+---------+---------+---------+---------------+-----------------+\n",
      "|           Subaru|     Subaru_Forester|  mechanical|  blue|        296000|         2003|        gas|          true|   gasoline|            2.0|universal|       false|owned|       all|   6150.0|          false|    Минская обл.|               7|         6|    false|    false|    false|    false|    false|     true|    false|    false|    false|    false|             10|              0.0|\n",
      "|            Dodge|       Dodge_Caravan|   automatic|silver|        170000|         2003|   gasoline|         false|   gasoline|            2.4|  minivan|       false|owned|     front|   3500.0|          false|    Минская обл.|               4|         2|    false|     true|    false|    false|    false|    false|    false|    false|    false|    false|             83|              1.0|\n",
      "|              Kia|         Kia_Sorento|   automatic| other|        144841|         2010|   gasoline|         false|   gasoline|            2.4|      suv|       false|owned|     front|  12000.0|          false|  Витебская обл.|               5|        18|    false|     true|    false|     true|    false|     true|     true|     true|     true|     true|             54|              1.0|\n",
      "|              Kia|             Kia_Rio|  mechanical|silver|        229000|         2008|     diesel|         false|     diesel|            1.5|    sedan|       false|owned|     front|   5300.0|          false|    Минская обл.|               8|        31|    false|     true|    false|    false|    false|    false|    false|    false|    false|    false|             69|              0.0|\n",
      "|              Kia|         Kia_Sorento|   automatic| other|        251058|         2004|        gas|          true|   gasoline|            3.5|      suv|       false|owned|      rear|   6250.0|          false|  Брестская обл.|               1|         1|    false|     true|    false|    false|    false|    false|    false|    false|    false|    false|             40|              1.0|\n",
      "|             Opel|         Opel_Vectra|  mechanical|silver|        225000|         2003|     diesel|         false|     diesel|            2.2|universal|       false|owned|     front|   4300.0|          false|    Минская обл.|              10|         4|    false|    false|    false|    false|    false|    false|    false|    false|     true|     true|            119|              0.0|\n",
      "|             Opel|          Opel_Omega|  mechanical| white|        400000|         1994|   gasoline|         false|   gasoline|            2.0|    sedan|       false|owned|      rear|   2000.0|           true|    Минская обл.|              10|         2|    false|    false|     true|    false|    false|    false|    false|    false|    false|     true|              4|              0.0|\n",
      "|             Opel|          Opel_Corsa|  mechanical|orange|         70840|         2012|   gasoline|         false|   gasoline|            1.6|hatchback|       false|owned|     front| 10860.29|          false|    Минская обл.|              15|         7|     true|    false|    false|    false|    false|    false|    false|    false|    false|    false|             11|              0.0|\n",
      "|             Opel|          Opel_Omega|   automatic| black|        420000|         1998|     diesel|         false|     diesel|            2.5|universal|       false|owned|      rear|   2400.0|          false|    Минская обл.|               7|         2|    false|     true|    false|    false|     true|     true|    false|    false|    false|    false|             77|              1.0|\n",
      "|             Opel|         Opel_Vectra|  mechanical|  grey|        193000|         1996|   gasoline|         false|   gasoline|            1.6|    sedan|       false|owned|     front|   2000.0|           true|Могилевская обл.|               1|         8|     true|    false|    false|    false|    false|    false|    false|    false|    false|    false|             63|              0.0|\n",
      "|             Opel|          Opel_Astra|  mechanical| black|        225000|         2005|   gasoline|         false|   gasoline|            1.8|hatchback|       false|owned|     front|   4590.0|          false|Могилевская обл.|              10|         2|    false|     true|    false|    false|    false|    false|    false|    false|     true|     true|             36|              0.0|\n",
      "|             Opel|         Opel_Zafira|  mechanical| black|        270000|         2006|     diesel|         false|     diesel|            1.9|  minivan|       false|owned|     front|   7000.0|          false|Могилевская обл.|               2|         4|    false|     true|    false|    false|    false|    false|    false|     true|     true|     true|             90|              0.0|\n",
      "|             Opel|          Opel_Astra|  mechanical|  grey|        245000|         2011|     diesel|         false|     diesel|            1.3|universal|       false|owned|     front|   8300.0|          false|  Брестская обл.|               8|         8|    false|     true|    false|     true|    false|     true|     true|     true|     true|     true|             79|              0.0|\n",
      "|       Alfa Romeo|      Alfa Romeo_156|  mechanical| black|        300000|         1998|   gasoline|         false|   gasoline|            1.8|    sedan|       false|owned|     front|   1650.0|          false|    Минская обл.|               3|         1|    false|     true|    false|    false|    false|    false|    false|    false|    false|     true|             69|              0.0|\n",
      "|       Mitsubishi|Mitsubishi_Outlander|   automatic|silver|        202000|         2006|   gasoline|         false|   gasoline|            2.4|      suv|       false|owned|       all|   6500.0|          false|    Минская обл.|               5|        10|    false|     true|    false|    false|    false|     true|    false|    false|    false|     true|             79|              1.0|\n",
      "|       Mitsubishi|   Mitsubishi_Galant|  mechanical|  grey|        250000|         1993|   gasoline|         false|   gasoline|            2.0|hatchback|       false|owned|     front|   1400.0|           true|    Минская обл.|               7|        10|    false|    false|    false|    false|    false|    false|    false|    false|    false|     true|             25|              0.0|\n",
      "|       Mitsubishi|     Mitsubishi_Colt|  mechanical|  grey|        215000|         2006|   gasoline|         false|   gasoline|            1.3|hatchback|       false|owned|     front|   3900.0|          false|    Минская обл.|               6|        10|    false|     true|    false|    false|    false|     true|    false|    false|    false|    false|             97|              0.0|\n",
      "|       Mitsubishi|Mitsubishi_Outlander|   automatic|  blue|         61000|         2016|   gasoline|         false|   gasoline|            2.0|      suv|       false|owned|       all|  20002.0|          false|    Минская обл.|               3|         1|    false|     true|    false|    false|     true|     true|     true|     true|     true|     true|             67|              1.0|\n",
      "|          Citroen|    Citroen_C-ELYSÉE|  mechanical| white|         40130|         2016|   gasoline|         false|   gasoline|            1.6|    sedan|       false|owned|     front|   8900.0|           true|    Минская обл.|              18|        51|    false|     true|    false|     true|    false|     true|     true|     true|     true|     true|             61|              0.0|\n",
      "|          Citroen|       Citroen_Xsara|  mechanical|silver|        300000|         1999|   gasoline|         false|   gasoline|            1.6|universal|       false|owned|     front|   2000.0|           true|  Витебская обл.|               6|        13|     true|    false|    false|    false|    false|    false|    false|    false|    false|    false|             24|              0.0|\n",
      "+-----------------+--------------------+------------+------+--------------+-------------+-----------+--------------+-----------+---------------+---------+------------+-----+----------+---------+---------------+----------------+----------------+----------+---------+---------+---------+---------+---------+---------+---------+---------+---------+---------+---------------+-----------------+\n",
      "only showing top 20 rows\n",
      "\n"
     ]
    }
   ],
   "source": [
    "from pyspark.ml.feature import StringIndexer\n",
    "transmission_indexer = StringIndexer(inputCol=\"transmission\", outputCol=\"transmissionIndex\")\n",
    "#Fits a model to the input dataset with optional parameters.\n",
    "df1 = transmission_indexer.fit(df).transform(df)\n",
    "df1.show()"
   ]
  },
  {
   "cell_type": "code",
   "execution_count": 17,
   "id": "eeaf1634",
   "metadata": {},
   "outputs": [],
   "source": [
    "from pyspark.ml.regression import LinearRegression"
   ]
  },
  {
   "cell_type": "code",
   "execution_count": 18,
   "id": "565ead58",
   "metadata": {},
   "outputs": [],
   "source": [
    "from pyspark.ml.linalg import Vectors\n",
    "from pyspark.ml.feature import VectorAssembler"
   ]
  },
  {
   "cell_type": "code",
   "execution_count": 25,
   "id": "4b7497e1",
   "metadata": {},
   "outputs": [
    {
     "ename": "SyntaxError",
     "evalue": "positional argument follows keyword argument (Temp/ipykernel_3384/2206633673.py, line 4)",
     "output_type": "error",
     "traceback": [
      "\u001b[1;36m  File \u001b[1;32m\"C:\\Users\\Sheba\\AppData\\Local\\Temp/ipykernel_3384/2206633673.py\"\u001b[1;36m, line \u001b[1;32m4\u001b[0m\n\u001b[1;33m    outputCol=\"manufacturer_nameIndex\",\"manufacturer_modelIndex\",\"transmissionIndex\",\\\u001b[0m\n\u001b[1;37m                                                                ^\u001b[0m\n\u001b[1;31mSyntaxError\u001b[0m\u001b[1;31m:\u001b[0m positional argument follows keyword argument\n"
     ]
    }
   ],
   "source": [
    "from pyspark.ml.feature import StringIndexer\n",
    "columns_indexer = StringIndexer(inputCol=\"manufacturer_name\",\"manufacturer_model\",\"transmission\",\"color\",\"engine_fuel\",\\\n",
    "                                     \"engine_type\",\"state\",\"drivetrain\",\\\n",
    "                                     outputCol=\"manufacturer_nameIndex\",\"manufacturer_modelIndex\",\"transmissionIndex\",\\\n",
    "                                     \"colorIndex\",\"engine_fuelIndex\",\"\",\"engine_typeIndex\",\\\n",
    "                                    \"stateIndex\",\"drivetrainIndex\")\n",
    "#Fits a model to the input dataset with optional parameters.\n",
    "df1 = columns_indexer.fit(df).transform(df)\n",
    "df1.show()"
   ]
  },
  {
   "cell_type": "code",
   "execution_count": 32,
   "id": "ab0d265b",
   "metadata": {},
   "outputs": [
    {
     "name": "stdout",
     "output_type": "stream",
     "text": [
      "+-----------------+--------------------+------------+------+--------------+-------------+-----------+--------------+-----------+---------------+---------+------------+-----+----------+---------+---------------+----------------+----------------+----------+---------+---------+---------+---------+---------+---------+---------+---------+---------+---------+---------------+-----------------+----------------------+\n",
      "|manufacturer_name|  manufacturer_model|transmission| color|odometer_value|year_produced|engine_fuel|engine_has_gas|engine_type|engine_capacity|body_type|has_warranty|state|drivetrain|price_usd|is_exchangeable| location_region|number_of_photos|up_counter|feature_0|feature_1|feature_2|feature_3|feature_4|feature_5|feature_6|feature_7|feature_8|feature_9|duration_listed|transmissionIndex|manufacturer_nameIndex|\n",
      "+-----------------+--------------------+------------+------+--------------+-------------+-----------+--------------+-----------+---------------+---------+------------+-----+----------+---------+---------------+----------------+----------------+----------+---------+---------+---------+---------+---------+---------+---------+---------+---------+---------+---------------+-----------------+----------------------+\n",
      "|           Subaru|     Subaru_Forester|  mechanical|  blue|        296000|         2003|        gas|          true|   gasoline|            2.0|universal|       false|owned|       all|   6150.0|          false|    Минская обл.|               7|         6|    false|    false|    false|    false|    false|     true|    false|    false|    false|    false|             10|              0.0|                  22.0|\n",
      "|            Dodge|       Dodge_Caravan|   automatic|silver|        170000|         2003|   gasoline|         false|   gasoline|            2.4|  minivan|       false|owned|     front|   3500.0|          false|    Минская обл.|               4|         2|    false|     true|    false|    false|    false|    false|    false|    false|    false|    false|             83|              1.0|                  21.0|\n",
      "|              Kia|         Kia_Sorento|   automatic| other|        144841|         2010|   gasoline|         false|   gasoline|            2.4|      suv|       false|owned|     front|  12000.0|          false|  Витебская обл.|               5|        18|    false|     true|    false|     true|    false|     true|     true|     true|     true|     true|             54|              1.0|                  13.0|\n",
      "|              Kia|             Kia_Rio|  mechanical|silver|        229000|         2008|     diesel|         false|     diesel|            1.5|    sedan|       false|owned|     front|   5300.0|          false|    Минская обл.|               8|        31|    false|     true|    false|    false|    false|    false|    false|    false|    false|    false|             69|              0.0|                  13.0|\n",
      "|              Kia|         Kia_Sorento|   automatic| other|        251058|         2004|        gas|          true|   gasoline|            3.5|      suv|       false|owned|      rear|   6250.0|          false|  Брестская обл.|               1|         1|    false|     true|    false|    false|    false|    false|    false|    false|    false|    false|             40|              1.0|                  13.0|\n",
      "|             Opel|         Opel_Vectra|  mechanical|silver|        225000|         2003|     diesel|         false|     diesel|            2.2|universal|       false|owned|     front|   4300.0|          false|    Минская обл.|              10|         4|    false|    false|    false|    false|    false|    false|    false|    false|     true|     true|            119|              0.0|                   2.0|\n",
      "|             Opel|          Opel_Omega|  mechanical| white|        400000|         1994|   gasoline|         false|   gasoline|            2.0|    sedan|       false|owned|      rear|   2000.0|           true|    Минская обл.|              10|         2|    false|    false|     true|    false|    false|    false|    false|    false|    false|     true|              4|              0.0|                   2.0|\n",
      "|             Opel|          Opel_Corsa|  mechanical|orange|         70840|         2012|   gasoline|         false|   gasoline|            1.6|hatchback|       false|owned|     front| 10860.29|          false|    Минская обл.|              15|         7|     true|    false|    false|    false|    false|    false|    false|    false|    false|    false|             11|              0.0|                   2.0|\n",
      "|             Opel|          Opel_Omega|   automatic| black|        420000|         1998|     diesel|         false|     diesel|            2.5|universal|       false|owned|      rear|   2400.0|          false|    Минская обл.|               7|         2|    false|     true|    false|    false|     true|     true|    false|    false|    false|    false|             77|              1.0|                   2.0|\n",
      "|             Opel|         Opel_Vectra|  mechanical|  grey|        193000|         1996|   gasoline|         false|   gasoline|            1.6|    sedan|       false|owned|     front|   2000.0|           true|Могилевская обл.|               1|         8|     true|    false|    false|    false|    false|    false|    false|    false|    false|    false|             63|              0.0|                   2.0|\n",
      "|             Opel|          Opel_Astra|  mechanical| black|        225000|         2005|   gasoline|         false|   gasoline|            1.8|hatchback|       false|owned|     front|   4590.0|          false|Могилевская обл.|              10|         2|    false|     true|    false|    false|    false|    false|    false|    false|     true|     true|             36|              0.0|                   2.0|\n",
      "|             Opel|         Opel_Zafira|  mechanical| black|        270000|         2006|     diesel|         false|     diesel|            1.9|  minivan|       false|owned|     front|   7000.0|          false|Могилевская обл.|               2|         4|    false|     true|    false|    false|    false|    false|    false|     true|     true|     true|             90|              0.0|                   2.0|\n",
      "|             Opel|          Opel_Astra|  mechanical|  grey|        245000|         2011|     diesel|         false|     diesel|            1.3|universal|       false|owned|     front|   8300.0|          false|  Брестская обл.|               8|         8|    false|     true|    false|     true|    false|     true|     true|     true|     true|     true|             79|              0.0|                   2.0|\n",
      "|       Alfa Romeo|      Alfa Romeo_156|  mechanical| black|        300000|         1998|   gasoline|         false|   gasoline|            1.8|    sedan|       false|owned|     front|   1650.0|          false|    Минская обл.|               3|         1|    false|     true|    false|    false|    false|    false|    false|    false|    false|     true|             69|              0.0|                  29.0|\n",
      "|       Mitsubishi|Mitsubishi_Outlander|   automatic|silver|        202000|         2006|   gasoline|         false|   gasoline|            2.4|      suv|       false|owned|       all|   6500.0|          false|    Минская обл.|               5|        10|    false|     true|    false|    false|    false|     true|    false|    false|    false|     true|             79|              1.0|                  14.0|\n",
      "|       Mitsubishi|   Mitsubishi_Galant|  mechanical|  grey|        250000|         1993|   gasoline|         false|   gasoline|            2.0|hatchback|       false|owned|     front|   1400.0|           true|    Минская обл.|               7|        10|    false|    false|    false|    false|    false|    false|    false|    false|    false|     true|             25|              0.0|                  14.0|\n",
      "|       Mitsubishi|     Mitsubishi_Colt|  mechanical|  grey|        215000|         2006|   gasoline|         false|   gasoline|            1.3|hatchback|       false|owned|     front|   3900.0|          false|    Минская обл.|               6|        10|    false|     true|    false|    false|    false|     true|    false|    false|    false|    false|             97|              0.0|                  14.0|\n",
      "|       Mitsubishi|Mitsubishi_Outlander|   automatic|  blue|         61000|         2016|   gasoline|         false|   gasoline|            2.0|      suv|       false|owned|       all|  20002.0|          false|    Минская обл.|               3|         1|    false|     true|    false|    false|     true|     true|     true|     true|     true|     true|             67|              1.0|                  14.0|\n",
      "|          Citroen|    Citroen_C-ELYSÉE|  mechanical| white|         40130|         2016|   gasoline|         false|   gasoline|            1.6|    sedan|       false|owned|     front|   8900.0|           true|    Минская обл.|              18|        51|    false|     true|    false|     true|    false|     true|     true|     true|     true|     true|             61|              0.0|                   8.0|\n",
      "|          Citroen|       Citroen_Xsara|  mechanical|silver|        300000|         1999|   gasoline|         false|   gasoline|            1.6|universal|       false|owned|     front|   2000.0|           true|  Витебская обл.|               6|        13|     true|    false|    false|    false|    false|    false|    false|    false|    false|    false|             24|              0.0|                   8.0|\n",
      "+-----------------+--------------------+------------+------+--------------+-------------+-----------+--------------+-----------+---------------+---------+------------+-----+----------+---------+---------------+----------------+----------------+----------+---------+---------+---------+---------+---------+---------+---------+---------+---------+---------+---------------+-----------------+----------------------+\n",
      "only showing top 20 rows\n",
      "\n"
     ]
    }
   ],
   "source": [
    "from pyspark.ml.feature import StringIndexer\n",
    "df1= StringIndexer(inputCol=\"manufacturer_name\",outputCol=\"manufacturer_nameIndex\").fit(df1).transform(df1)\n",
    "#Fits a model to the input dataset with optional parameters.\n",
    "#df1 = columns_indexer.fit(df).transform(df)\n",
    "df1.show()"
   ]
  },
  {
   "cell_type": "code",
   "execution_count": 57,
   "id": "98af6cb3",
   "metadata": {},
   "outputs": [
    {
     "name": "stdout",
     "output_type": "stream",
     "text": [
      "+-----------------+--------------------+------------+------+--------------+-------------+-----------+--------------+-----------+---------------+---------+------------+-----+----------+---------+---------------+----------------+----------------+----------+---------+---------+---------+---------+---------+---------+---------+---------+---------+---------+---------------+-----------------+-----------------+---------------+------------------+-----------+------------------------+-----------------------+----------------+-----------+\n",
      "|manufacturer_name|  manufacturer_model|transmission| color|odometer_value|year_produced|engine_fuel|engine_has_gas|engine_type|engine_capacity|body_type|has_warranty|state|drivetrain|price_usd|is_exchangeable| location_region|number_of_photos|up_counter|feature_0|feature_1|feature_2|feature_3|feature_4|feature_5|feature_6|feature_7|feature_8|feature_9|duration_listed|engine_fuel_index|engine_type_index|body_type_index|transmission_index|state_index|manufacturer_model_index|manufacturer_name_index|drivetrain_index|color_index|\n",
      "+-----------------+--------------------+------------+------+--------------+-------------+-----------+--------------+-----------+---------------+---------+------------+-----+----------+---------+---------------+----------------+----------------+----------+---------+---------+---------+---------+---------+---------+---------+---------+---------+---------+---------------+-----------------+-----------------+---------------+------------------+-----------+------------------------+-----------------------+----------------+-----------+\n",
      "|           Subaru|     Subaru_Forester|  mechanical|  blue|        296000|         2003|        gas|          true|   gasoline|            2.0|universal|       false|owned|       all|   6150.0|          false|    Минская обл.|               7|         6|    false|    false|    false|    false|    false|     true|    false|    false|    false|    false|             10|              2.0|              0.0|            2.0|               0.0|        0.0|                   110.0|                   22.0|             1.0|        2.0|\n",
      "|            Dodge|       Dodge_Caravan|   automatic|silver|        170000|         2003|   gasoline|         false|   gasoline|            2.4|  minivan|       false|owned|     front|   3500.0|          false|    Минская обл.|               4|         2|    false|     true|    false|    false|    false|    false|    false|    false|    false|    false|             83|              0.0|              0.0|            4.0|               1.0|        0.0|                   114.0|                   21.0|             0.0|        1.0|\n",
      "|              Kia|         Kia_Sorento|   automatic| other|        144841|         2010|   gasoline|         false|   gasoline|            2.4|      suv|       false|owned|     front|  12000.0|          false|  Витебская обл.|               5|        18|    false|     true|    false|     true|    false|     true|     true|     true|     true|     true|             54|              0.0|              0.0|            3.0|               1.0|        0.0|                    45.0|                   13.0|             0.0|        5.0|\n",
      "|              Kia|             Kia_Rio|  mechanical|silver|        229000|         2008|     diesel|         false|     diesel|            1.5|    sedan|       false|owned|     front|   5300.0|          false|    Минская обл.|               8|        31|    false|     true|    false|    false|    false|    false|    false|    false|    false|    false|             69|              1.0|              1.0|            0.0|               0.0|        0.0|                    40.0|                   13.0|             0.0|        1.0|\n",
      "|              Kia|         Kia_Sorento|   automatic| other|        251058|         2004|        gas|          true|   gasoline|            3.5|      suv|       false|owned|      rear|   6250.0|          false|  Брестская обл.|               1|         1|    false|     true|    false|    false|    false|    false|    false|    false|    false|    false|             40|              2.0|              0.0|            3.0|               1.0|        0.0|                    45.0|                   13.0|             2.0|        5.0|\n",
      "|             Opel|         Opel_Vectra|  mechanical|silver|        225000|         2003|     diesel|         false|     diesel|            2.2|universal|       false|owned|     front|   4300.0|          false|    Минская обл.|              10|         4|    false|    false|    false|    false|    false|    false|    false|    false|     true|     true|            119|              1.0|              1.0|            2.0|               0.0|        0.0|                     7.0|                    2.0|             0.0|        1.0|\n",
      "|             Opel|          Opel_Omega|  mechanical| white|        400000|         1994|   gasoline|         false|   gasoline|            2.0|    sedan|       false|owned|      rear|   2000.0|           true|    Минская обл.|              10|         2|    false|    false|     true|    false|    false|    false|    false|    false|    false|     true|              4|              0.0|              0.0|            0.0|               0.0|        0.0|                    13.0|                    2.0|             2.0|        3.0|\n",
      "|             Opel|          Opel_Corsa|  mechanical|orange|         70840|         2012|   gasoline|         false|   gasoline|            1.6|hatchback|       false|owned|     front| 10860.29|          false|    Минская обл.|              15|         7|     true|    false|    false|    false|    false|    false|    false|    false|    false|    false|             11|              0.0|              0.0|            1.0|               0.0|        0.0|                    59.0|                    2.0|             0.0|       11.0|\n",
      "|             Opel|          Opel_Omega|   automatic| black|        420000|         1998|     diesel|         false|     diesel|            2.5|universal|       false|owned|      rear|   2400.0|          false|    Минская обл.|               7|         2|    false|     true|    false|    false|     true|     true|    false|    false|    false|    false|             77|              1.0|              1.0|            2.0|               1.0|        0.0|                    13.0|                    2.0|             2.0|        0.0|\n",
      "|             Opel|         Opel_Vectra|  mechanical|  grey|        193000|         1996|   gasoline|         false|   gasoline|            1.6|    sedan|       false|owned|     front|   2000.0|           true|Могилевская обл.|               1|         8|     true|    false|    false|    false|    false|    false|    false|    false|    false|    false|             63|              0.0|              0.0|            0.0|               0.0|        0.0|                     7.0|                    2.0|             0.0|        4.0|\n",
      "|             Opel|          Opel_Astra|  mechanical| black|        225000|         2005|   gasoline|         false|   gasoline|            1.8|hatchback|       false|owned|     front|   4590.0|          false|Могилевская обл.|              10|         2|    false|     true|    false|    false|    false|    false|    false|    false|     true|     true|             36|              0.0|              0.0|            1.0|               0.0|        0.0|                     2.0|                    2.0|             0.0|        0.0|\n",
      "|             Opel|         Opel_Zafira|  mechanical| black|        270000|         2006|     diesel|         false|     diesel|            1.9|  minivan|       false|owned|     front|   7000.0|          false|Могилевская обл.|               2|         4|    false|     true|    false|    false|    false|    false|    false|     true|     true|     true|             90|              1.0|              1.0|            4.0|               0.0|        0.0|                    10.0|                    2.0|             0.0|        0.0|\n",
      "|             Opel|          Opel_Astra|  mechanical|  grey|        245000|         2011|     diesel|         false|     diesel|            1.3|universal|       false|owned|     front|   8300.0|          false|  Брестская обл.|               8|         8|    false|     true|    false|     true|    false|     true|     true|     true|     true|     true|             79|              1.0|              1.0|            2.0|               0.0|        0.0|                     2.0|                    2.0|             0.0|        4.0|\n",
      "|       Alfa Romeo|      Alfa Romeo_156|  mechanical| black|        300000|         1998|   gasoline|         false|   gasoline|            1.8|    sedan|       false|owned|     front|   1650.0|          false|    Минская обл.|               3|         1|    false|     true|    false|    false|    false|    false|    false|    false|    false|     true|             69|              0.0|              0.0|            0.0|               0.0|        0.0|                    93.0|                   29.0|             0.0|        0.0|\n",
      "|       Mitsubishi|Mitsubishi_Outlander|   automatic|silver|        202000|         2006|   gasoline|         false|   gasoline|            2.4|      suv|       false|owned|       all|   6500.0|          false|    Минская обл.|               5|        10|    false|     true|    false|    false|    false|     true|    false|    false|    false|     true|             79|              0.0|              0.0|            3.0|               1.0|        0.0|                    79.0|                   14.0|             1.0|        1.0|\n",
      "|       Mitsubishi|   Mitsubishi_Galant|  mechanical|  grey|        250000|         1993|   gasoline|         false|   gasoline|            2.0|hatchback|       false|owned|     front|   1400.0|           true|    Минская обл.|               7|        10|    false|    false|    false|    false|    false|    false|    false|    false|    false|     true|             25|              0.0|              0.0|            1.0|               0.0|        0.0|                    95.0|                   14.0|             0.0|        4.0|\n",
      "|       Mitsubishi|     Mitsubishi_Colt|  mechanical|  grey|        215000|         2006|   gasoline|         false|   gasoline|            1.3|hatchback|       false|owned|     front|   3900.0|          false|    Минская обл.|               6|        10|    false|     true|    false|    false|    false|     true|    false|    false|    false|    false|             97|              0.0|              0.0|            1.0|               0.0|        0.0|                   154.0|                   14.0|             0.0|        4.0|\n",
      "|       Mitsubishi|Mitsubishi_Outlander|   automatic|  blue|         61000|         2016|   gasoline|         false|   gasoline|            2.0|      suv|       false|owned|       all|  20002.0|          false|    Минская обл.|               3|         1|    false|     true|    false|    false|     true|     true|     true|     true|     true|     true|             67|              0.0|              0.0|            3.0|               1.0|        0.0|                    79.0|                   14.0|             1.0|        2.0|\n",
      "|          Citroen|    Citroen_C-ELYSÉE|  mechanical| white|         40130|         2016|   gasoline|         false|   gasoline|            1.6|    sedan|       false|owned|     front|   8900.0|           true|    Минская обл.|              18|        51|    false|     true|    false|     true|    false|     true|     true|     true|     true|     true|             61|              0.0|              0.0|            0.0|               0.0|        0.0|                   351.0|                    8.0|             0.0|        3.0|\n",
      "|          Citroen|       Citroen_Xsara|  mechanical|silver|        300000|         1999|   gasoline|         false|   gasoline|            1.6|universal|       false|owned|     front|   2000.0|           true|  Витебская обл.|               6|        13|     true|    false|    false|    false|    false|    false|    false|    false|    false|    false|             24|              0.0|              0.0|            2.0|               0.0|        0.0|                    54.0|                    8.0|             0.0|        1.0|\n",
      "+-----------------+--------------------+------------+------+--------------+-------------+-----------+--------------+-----------+---------------+---------+------------+-----+----------+---------+---------------+----------------+----------------+----------+---------+---------+---------+---------+---------+---------+---------+---------+---------+---------+---------------+-----------------+-----------------+---------------+------------------+-----------+------------------------+-----------------------+----------------+-----------+\n",
      "only showing top 20 rows\n",
      "\n"
     ]
    }
   ],
   "source": [
    "from pyspark.ml import Pipeline\n",
    "from pyspark.ml.feature import StringIndexer\n",
    "\n",
    "\n",
    "indexers = [StringIndexer(inputCol=column,outputCol=column+\"_index\").fit(df) \\\n",
    "            for column in list(set(df.columns)-set(['odometer_value','year_produced','engine_capacity','price_usd',\\\n",
    "                                                    'location_region','number_of_photos','up_counter','feature_0',\\\n",
    "                                                    'feature_1','feature_2','feature_3', 'feature_4','feature_5',\\\n",
    "                                                    'is_exchangeable','engine_has_gas','has_warranty','feature_6',\\\n",
    "                                                    'feature_7','feature_8','feature_9','duration_listed']))]\n",
    "\n",
    "\n",
    "pipeline = Pipeline(stages=indexers)\n",
    "df = pipeline.fit(df).transform(df)\n",
    "\n",
    "df.show()"
   ]
  },
  {
   "cell_type": "code",
   "execution_count": 63,
   "id": "7897f29b",
   "metadata": {},
   "outputs": [],
   "source": [
    "from pyspark.ml.feature import OneHotEncoder\n",
    "\n",
    "# Create an instance of the one hot encoder\n",
    "onehot = OneHotEncoder(inputCols=[\"manufacturer_name_index\",\"manufacturer_model_index\",\"transmission_index\",\\\n",
    "                                     \"color_index\",\"engine_fuel_index\",\"engine_type_index\",\\\n",
    "                                    \"state_index\",\"drivetrain_index\"], outputCols=[\"manufacturer_nameIndex_d\",\\\n",
    "                                                                                   \"manufacturer_modelIndex_d\",\\\n",
    "                                                                                   \"transmissionIndex_d\",\"colorIndex_d\",\\\n",
    "                                                                                   \"engine_fuelIndex_d\",\"engine_typeIndex_d\",\\\n",
    "                                                                                   \"stateIndex_d\",\"drivetrainIndex_d\"])\n",
    "\n",
    "# Apply the one hot encoder to the flights data\n",
    "onehot = onehot.fit(df)\n",
    "cars_onehot = onehot.transform(df)\n"
   ]
  },
  {
   "cell_type": "code",
   "execution_count": 66,
   "id": "1a23880a",
   "metadata": {},
   "outputs": [
    {
     "name": "stdout",
     "output_type": "stream",
     "text": [
      "+-----------------+-----------------------+------------------------+\n",
      "|manufacturer_name|manufacturer_name_index|manufacturer_nameIndex_d|\n",
      "+-----------------+-----------------------+------------------------+\n",
      "|       Volkswagen|                    0.0|          (54,[0],[1.0])|\n",
      "|              BMW|                    1.0|          (54,[1],[1.0])|\n",
      "|             Opel|                    2.0|          (54,[2],[1.0])|\n",
      "|             Audi|                    3.0|          (54,[3],[1.0])|\n",
      "|          Renault|                    4.0|          (54,[4],[1.0])|\n",
      "|    Mercedes-Benz|                    5.0|          (54,[5],[1.0])|\n",
      "|             Ford|                    6.0|          (54,[6],[1.0])|\n",
      "|          Peugeot|                    7.0|          (54,[7],[1.0])|\n",
      "|          Citroen|                    8.0|          (54,[8],[1.0])|\n",
      "|           Toyota|                    9.0|          (54,[9],[1.0])|\n",
      "|           Nissan|                   10.0|         (54,[10],[1.0])|\n",
      "|            Mazda|                   11.0|         (54,[11],[1.0])|\n",
      "|          Hyundai|                   12.0|         (54,[12],[1.0])|\n",
      "|              Kia|                   13.0|         (54,[13],[1.0])|\n",
      "|       Mitsubishi|                   14.0|         (54,[14],[1.0])|\n",
      "|            Honda|                   15.0|         (54,[15],[1.0])|\n",
      "|            Skoda|                   16.0|         (54,[16],[1.0])|\n",
      "|            Volvo|                   17.0|         (54,[17],[1.0])|\n",
      "|             Fiat|                   18.0|         (54,[18],[1.0])|\n",
      "|        Chevrolet|                   19.0|         (54,[19],[1.0])|\n",
      "+-----------------+-----------------------+------------------------+\n",
      "only showing top 20 rows\n",
      "\n"
     ]
    }
   ],
   "source": [
    "cars_onehot.select('manufacturer_name', 'manufacturer_name_index', 'manufacturer_nameIndex_d').distinct().sort\\\n",
    "('manufacturer_name_index').show()"
   ]
  },
  {
   "cell_type": "code",
   "execution_count": 67,
   "id": "5b253a31",
   "metadata": {},
   "outputs": [],
   "source": [
    "from pyspark.ml.regression import LinearRegression"
   ]
  },
  {
   "cell_type": "code",
   "execution_count": 68,
   "id": "fb3df731",
   "metadata": {},
   "outputs": [],
   "source": [
    "from pyspark.ml.linalg import Vectors\n",
    "from pyspark.ml.feature import VectorAssembler"
   ]
  },
  {
   "cell_type": "code",
   "execution_count": 107,
   "id": "e2a5f2e7",
   "metadata": {},
   "outputs": [],
   "source": [
    "featureassembler = VectorAssembler(inputCols = ['odometer_value','year_produced','engine_capacity',\n",
    "                                                'transmission_index','color_index','engine_fuel_index','engine_type_index',\\\n",
    "                                                'state_index','drivetrain_index'],outputCol = \"Independent_Features\") "
   ]
  },
  {
   "cell_type": "code",
   "execution_count": 108,
   "id": "5d46cc02",
   "metadata": {},
   "outputs": [],
   "source": [
    "output = featureassembler.transform(df)"
   ]
  },
  {
   "cell_type": "code",
   "execution_count": 109,
   "id": "94137307",
   "metadata": {},
   "outputs": [
    {
     "name": "stdout",
     "output_type": "stream",
     "text": [
      "+-----------------+--------------------+------------+------+--------------+-------------+-----------+--------------+-----------+---------------+---------+------------+-----+----------+---------+---------------+----------------+----------------+----------+---------+---------+---------+---------+---------+---------+---------+---------+---------+---------+---------------+-----------------+-----------------+---------------+------------------+-----------+------------------------+-----------------------+----------------+-----------+--------------------+\n",
      "|manufacturer_name|  manufacturer_model|transmission| color|odometer_value|year_produced|engine_fuel|engine_has_gas|engine_type|engine_capacity|body_type|has_warranty|state|drivetrain|price_usd|is_exchangeable| location_region|number_of_photos|up_counter|feature_0|feature_1|feature_2|feature_3|feature_4|feature_5|feature_6|feature_7|feature_8|feature_9|duration_listed|engine_fuel_index|engine_type_index|body_type_index|transmission_index|state_index|manufacturer_model_index|manufacturer_name_index|drivetrain_index|color_index|Independent_Features|\n",
      "+-----------------+--------------------+------------+------+--------------+-------------+-----------+--------------+-----------+---------------+---------+------------+-----+----------+---------+---------------+----------------+----------------+----------+---------+---------+---------+---------+---------+---------+---------+---------+---------+---------+---------------+-----------------+-----------------+---------------+------------------+-----------+------------------------+-----------------------+----------------+-----------+--------------------+\n",
      "|           Subaru|     Subaru_Forester|  mechanical|  blue|        296000|         2003|        gas|          true|   gasoline|            2.0|universal|       false|owned|       all|   6150.0|          false|    Минская обл.|               7|         6|    false|    false|    false|    false|    false|     true|    false|    false|    false|    false|             10|              2.0|              0.0|            2.0|               0.0|        0.0|                   110.0|                   22.0|             1.0|        2.0|[296000.0,2003.0,...|\n",
      "|            Dodge|       Dodge_Caravan|   automatic|silver|        170000|         2003|   gasoline|         false|   gasoline|            2.4|  minivan|       false|owned|     front|   3500.0|          false|    Минская обл.|               4|         2|    false|     true|    false|    false|    false|    false|    false|    false|    false|    false|             83|              0.0|              0.0|            4.0|               1.0|        0.0|                   114.0|                   21.0|             0.0|        1.0|[170000.0,2003.0,...|\n",
      "|              Kia|         Kia_Sorento|   automatic| other|        144841|         2010|   gasoline|         false|   gasoline|            2.4|      suv|       false|owned|     front|  12000.0|          false|  Витебская обл.|               5|        18|    false|     true|    false|     true|    false|     true|     true|     true|     true|     true|             54|              0.0|              0.0|            3.0|               1.0|        0.0|                    45.0|                   13.0|             0.0|        5.0|[144841.0,2010.0,...|\n",
      "|              Kia|             Kia_Rio|  mechanical|silver|        229000|         2008|     diesel|         false|     diesel|            1.5|    sedan|       false|owned|     front|   5300.0|          false|    Минская обл.|               8|        31|    false|     true|    false|    false|    false|    false|    false|    false|    false|    false|             69|              1.0|              1.0|            0.0|               0.0|        0.0|                    40.0|                   13.0|             0.0|        1.0|[229000.0,2008.0,...|\n",
      "|              Kia|         Kia_Sorento|   automatic| other|        251058|         2004|        gas|          true|   gasoline|            3.5|      suv|       false|owned|      rear|   6250.0|          false|  Брестская обл.|               1|         1|    false|     true|    false|    false|    false|    false|    false|    false|    false|    false|             40|              2.0|              0.0|            3.0|               1.0|        0.0|                    45.0|                   13.0|             2.0|        5.0|[251058.0,2004.0,...|\n",
      "|             Opel|         Opel_Vectra|  mechanical|silver|        225000|         2003|     diesel|         false|     diesel|            2.2|universal|       false|owned|     front|   4300.0|          false|    Минская обл.|              10|         4|    false|    false|    false|    false|    false|    false|    false|    false|     true|     true|            119|              1.0|              1.0|            2.0|               0.0|        0.0|                     7.0|                    2.0|             0.0|        1.0|[225000.0,2003.0,...|\n",
      "|             Opel|          Opel_Omega|  mechanical| white|        400000|         1994|   gasoline|         false|   gasoline|            2.0|    sedan|       false|owned|      rear|   2000.0|           true|    Минская обл.|              10|         2|    false|    false|     true|    false|    false|    false|    false|    false|    false|     true|              4|              0.0|              0.0|            0.0|               0.0|        0.0|                    13.0|                    2.0|             2.0|        3.0|[400000.0,1994.0,...|\n",
      "|             Opel|          Opel_Corsa|  mechanical|orange|         70840|         2012|   gasoline|         false|   gasoline|            1.6|hatchback|       false|owned|     front| 10860.29|          false|    Минская обл.|              15|         7|     true|    false|    false|    false|    false|    false|    false|    false|    false|    false|             11|              0.0|              0.0|            1.0|               0.0|        0.0|                    59.0|                    2.0|             0.0|       11.0|(9,[0,1,2,4],[708...|\n",
      "|             Opel|          Opel_Omega|   automatic| black|        420000|         1998|     diesel|         false|     diesel|            2.5|universal|       false|owned|      rear|   2400.0|          false|    Минская обл.|               7|         2|    false|     true|    false|    false|     true|     true|    false|    false|    false|    false|             77|              1.0|              1.0|            2.0|               1.0|        0.0|                    13.0|                    2.0|             2.0|        0.0|[420000.0,1998.0,...|\n",
      "|             Opel|         Opel_Vectra|  mechanical|  grey|        193000|         1996|   gasoline|         false|   gasoline|            1.6|    sedan|       false|owned|     front|   2000.0|           true|Могилевская обл.|               1|         8|     true|    false|    false|    false|    false|    false|    false|    false|    false|    false|             63|              0.0|              0.0|            0.0|               0.0|        0.0|                     7.0|                    2.0|             0.0|        4.0|(9,[0,1,2,4],[193...|\n",
      "|             Opel|          Opel_Astra|  mechanical| black|        225000|         2005|   gasoline|         false|   gasoline|            1.8|hatchback|       false|owned|     front|   4590.0|          false|Могилевская обл.|              10|         2|    false|     true|    false|    false|    false|    false|    false|    false|     true|     true|             36|              0.0|              0.0|            1.0|               0.0|        0.0|                     2.0|                    2.0|             0.0|        0.0|(9,[0,1,2],[22500...|\n",
      "|             Opel|         Opel_Zafira|  mechanical| black|        270000|         2006|     diesel|         false|     diesel|            1.9|  minivan|       false|owned|     front|   7000.0|          false|Могилевская обл.|               2|         4|    false|     true|    false|    false|    false|    false|    false|     true|     true|     true|             90|              1.0|              1.0|            4.0|               0.0|        0.0|                    10.0|                    2.0|             0.0|        0.0|[270000.0,2006.0,...|\n",
      "|             Opel|          Opel_Astra|  mechanical|  grey|        245000|         2011|     diesel|         false|     diesel|            1.3|universal|       false|owned|     front|   8300.0|          false|  Брестская обл.|               8|         8|    false|     true|    false|     true|    false|     true|     true|     true|     true|     true|             79|              1.0|              1.0|            2.0|               0.0|        0.0|                     2.0|                    2.0|             0.0|        4.0|[245000.0,2011.0,...|\n",
      "|       Alfa Romeo|      Alfa Romeo_156|  mechanical| black|        300000|         1998|   gasoline|         false|   gasoline|            1.8|    sedan|       false|owned|     front|   1650.0|          false|    Минская обл.|               3|         1|    false|     true|    false|    false|    false|    false|    false|    false|    false|     true|             69|              0.0|              0.0|            0.0|               0.0|        0.0|                    93.0|                   29.0|             0.0|        0.0|(9,[0,1,2],[30000...|\n",
      "|       Mitsubishi|Mitsubishi_Outlander|   automatic|silver|        202000|         2006|   gasoline|         false|   gasoline|            2.4|      suv|       false|owned|       all|   6500.0|          false|    Минская обл.|               5|        10|    false|     true|    false|    false|    false|     true|    false|    false|    false|     true|             79|              0.0|              0.0|            3.0|               1.0|        0.0|                    79.0|                   14.0|             1.0|        1.0|[202000.0,2006.0,...|\n",
      "|       Mitsubishi|   Mitsubishi_Galant|  mechanical|  grey|        250000|         1993|   gasoline|         false|   gasoline|            2.0|hatchback|       false|owned|     front|   1400.0|           true|    Минская обл.|               7|        10|    false|    false|    false|    false|    false|    false|    false|    false|    false|     true|             25|              0.0|              0.0|            1.0|               0.0|        0.0|                    95.0|                   14.0|             0.0|        4.0|(9,[0,1,2,4],[250...|\n",
      "|       Mitsubishi|     Mitsubishi_Colt|  mechanical|  grey|        215000|         2006|   gasoline|         false|   gasoline|            1.3|hatchback|       false|owned|     front|   3900.0|          false|    Минская обл.|               6|        10|    false|     true|    false|    false|    false|     true|    false|    false|    false|    false|             97|              0.0|              0.0|            1.0|               0.0|        0.0|                   154.0|                   14.0|             0.0|        4.0|(9,[0,1,2,4],[215...|\n",
      "|       Mitsubishi|Mitsubishi_Outlander|   automatic|  blue|         61000|         2016|   gasoline|         false|   gasoline|            2.0|      suv|       false|owned|       all|  20002.0|          false|    Минская обл.|               3|         1|    false|     true|    false|    false|     true|     true|     true|     true|     true|     true|             67|              0.0|              0.0|            3.0|               1.0|        0.0|                    79.0|                   14.0|             1.0|        2.0|[61000.0,2016.0,2...|\n",
      "|          Citroen|    Citroen_C-ELYSÉE|  mechanical| white|         40130|         2016|   gasoline|         false|   gasoline|            1.6|    sedan|       false|owned|     front|   8900.0|           true|    Минская обл.|              18|        51|    false|     true|    false|     true|    false|     true|     true|     true|     true|     true|             61|              0.0|              0.0|            0.0|               0.0|        0.0|                   351.0|                    8.0|             0.0|        3.0|(9,[0,1,2,4],[401...|\n",
      "|          Citroen|       Citroen_Xsara|  mechanical|silver|        300000|         1999|   gasoline|         false|   gasoline|            1.6|universal|       false|owned|     front|   2000.0|           true|  Витебская обл.|               6|        13|     true|    false|    false|    false|    false|    false|    false|    false|    false|    false|             24|              0.0|              0.0|            2.0|               0.0|        0.0|                    54.0|                    8.0|             0.0|        1.0|(9,[0,1,2,4],[300...|\n",
      "+-----------------+--------------------+------------+------+--------------+-------------+-----------+--------------+-----------+---------------+---------+------------+-----+----------+---------+---------------+----------------+----------------+----------+---------+---------+---------+---------+---------+---------+---------+---------+---------+---------+---------------+-----------------+-----------------+---------------+------------------+-----------+------------------------+-----------------------+----------------+-----------+--------------------+\n",
      "only showing top 20 rows\n",
      "\n"
     ]
    }
   ],
   "source": [
    "output.show()"
   ]
  },
  {
   "cell_type": "code",
   "execution_count": 110,
   "id": "dfe12ff3",
   "metadata": {},
   "outputs": [
    {
     "name": "stdout",
     "output_type": "stream",
     "text": [
      "+--------------------+\n",
      "|Independent_Features|\n",
      "+--------------------+\n",
      "|[296000.0,2003.0,...|\n",
      "|[170000.0,2003.0,...|\n",
      "|[144841.0,2010.0,...|\n",
      "|[229000.0,2008.0,...|\n",
      "|[251058.0,2004.0,...|\n",
      "|[225000.0,2003.0,...|\n",
      "|[400000.0,1994.0,...|\n",
      "|(9,[0,1,2,4],[708...|\n",
      "|[420000.0,1998.0,...|\n",
      "|(9,[0,1,2,4],[193...|\n",
      "|(9,[0,1,2],[22500...|\n",
      "|[270000.0,2006.0,...|\n",
      "|[245000.0,2011.0,...|\n",
      "|(9,[0,1,2],[30000...|\n",
      "|[202000.0,2006.0,...|\n",
      "|(9,[0,1,2,4],[250...|\n",
      "|(9,[0,1,2,4],[215...|\n",
      "|[61000.0,2016.0,2...|\n",
      "|(9,[0,1,2,4],[401...|\n",
      "|(9,[0,1,2,4],[300...|\n",
      "+--------------------+\n",
      "only showing top 20 rows\n",
      "\n"
     ]
    }
   ],
   "source": [
    "output.select(\"Independent_Features\").show()"
   ]
  },
  {
   "cell_type": "code",
   "execution_count": 111,
   "id": "82bf97a4",
   "metadata": {},
   "outputs": [],
   "source": [
    "finalized_data = output.select(\"Independent_Features\", \"price_usd\")"
   ]
  },
  {
   "cell_type": "code",
   "execution_count": 112,
   "id": "cf5a224e",
   "metadata": {},
   "outputs": [
    {
     "name": "stdout",
     "output_type": "stream",
     "text": [
      "+--------------------+---------+\n",
      "|Independent_Features|price_usd|\n",
      "+--------------------+---------+\n",
      "|[296000.0,2003.0,...|   6150.0|\n",
      "|[170000.0,2003.0,...|   3500.0|\n",
      "|[144841.0,2010.0,...|  12000.0|\n",
      "|[229000.0,2008.0,...|   5300.0|\n",
      "|[251058.0,2004.0,...|   6250.0|\n",
      "|[225000.0,2003.0,...|   4300.0|\n",
      "|[400000.0,1994.0,...|   2000.0|\n",
      "|(9,[0,1,2,4],[708...| 10860.29|\n",
      "|[420000.0,1998.0,...|   2400.0|\n",
      "|(9,[0,1,2,4],[193...|   2000.0|\n",
      "|(9,[0,1,2],[22500...|   4590.0|\n",
      "|[270000.0,2006.0,...|   7000.0|\n",
      "|[245000.0,2011.0,...|   8300.0|\n",
      "|(9,[0,1,2],[30000...|   1650.0|\n",
      "|[202000.0,2006.0,...|   6500.0|\n",
      "|(9,[0,1,2,4],[250...|   1400.0|\n",
      "|(9,[0,1,2,4],[215...|   3900.0|\n",
      "|[61000.0,2016.0,2...|  20002.0|\n",
      "|(9,[0,1,2,4],[401...|   8900.0|\n",
      "|(9,[0,1,2,4],[300...|   2000.0|\n",
      "+--------------------+---------+\n",
      "only showing top 20 rows\n",
      "\n"
     ]
    }
   ],
   "source": [
    "finalized_data.show()"
   ]
  },
  {
   "cell_type": "code",
   "execution_count": 113,
   "id": "90c66012",
   "metadata": {},
   "outputs": [],
   "source": [
    "train_data, test_data = finalized_data.randomSplit([0.75,0.25])"
   ]
  },
  {
   "cell_type": "code",
   "execution_count": 114,
   "id": "177da01e",
   "metadata": {},
   "outputs": [],
   "source": [
    "regressor = LinearRegression(featuresCol = 'Independent_Features', labelCol = 'price_usd')\n",
    "regressor = regressor.fit(train_data)"
   ]
  },
  {
   "cell_type": "code",
   "execution_count": 115,
   "id": "b562c916",
   "metadata": {},
   "outputs": [
    {
     "data": {
      "text/plain": [
       "DenseVector([-0.0076, 496.0329, 2203.5687, 1206.0511, 35.7901, -67.5514, 1548.8666, -3271.6137, 1151.9446])"
      ]
     },
     "execution_count": 115,
     "metadata": {},
     "output_type": "execute_result"
    }
   ],
   "source": [
    "regressor.coefficients"
   ]
  },
  {
   "cell_type": "code",
   "execution_count": 116,
   "id": "1f0fc576",
   "metadata": {},
   "outputs": [
    {
     "data": {
      "text/plain": [
       "-991202.189316411"
      ]
     },
     "execution_count": 116,
     "metadata": {},
     "output_type": "execute_result"
    }
   ],
   "source": [
    "regressor.intercept"
   ]
  },
  {
   "cell_type": "code",
   "execution_count": 117,
   "id": "e559f232",
   "metadata": {},
   "outputs": [],
   "source": [
    "pred_results = regressor.evaluate(test_data)"
   ]
  },
  {
   "cell_type": "code",
   "execution_count": 118,
   "id": "9670ecfc",
   "metadata": {},
   "outputs": [
    {
     "name": "stdout",
     "output_type": "stream",
     "text": [
      "+--------------------+---------+------------------+\n",
      "|Independent_Features|price_usd|        prediction|\n",
      "+--------------------+---------+------------------+\n",
      "|(9,[0,1,2],[34788...|   2350.0|-363.0774695330765|\n",
      "|(9,[0,1,2,3],[620...|  13200.0|14049.353611797327|\n",
      "|(9,[0,1,2,4],[352...|   2470.0|3398.2658945702715|\n",
      "|(9,[0,1,2,4],[715...|  11899.0|10013.460099744028|\n",
      "|(9,[0,1,2,4],[770...|   9600.0|10026.763090137742|\n",
      "|(9,[0,1,2,4],[941...|   7750.0| 9197.884706964716|\n",
      "|(9,[0,1,2,4],[130...|   4500.0| 7086.396731334855|\n",
      "|(9,[0,1,2,4],[149...|   5900.0| 8349.152973972261|\n",
      "|(9,[0,1,2,4],[160...|   2000.0|1880.6279819486663|\n",
      "|(9,[0,1,2,4],[200...|   4000.0|3387.1186601511436|\n",
      "|(9,[0,1,2,4],[215...|   3900.0|  5205.10463837604|\n",
      "|(9,[0,1,2,4],[232...|   2100.0|3085.4887239930686|\n",
      "|(9,[0,1,2,4],[370...|   3900.0| 2094.549237747444|\n",
      "|(9,[0,1,2,8],[980...|   8950.0|12618.447907941532|\n",
      "|(9,[0,1,2,8],[228...|   2990.0|6438.5748130542925|\n",
      "|[30452.0,2014.0,2...|  39900.0|15307.026785312803|\n",
      "|[39000.0,2018.0,1...|  20500.0|14845.641349761514|\n",
      "|[74000.0,2013.0,2...|  10100.0|12341.548304097261|\n",
      "|[125000.0,2015.0,...|  11300.0|12039.492394195404|\n",
      "|[144841.0,2010.0,...|  12000.0|11390.968510787934|\n",
      "+--------------------+---------+------------------+\n",
      "only showing top 20 rows\n",
      "\n"
     ]
    }
   ],
   "source": [
    "pred_results.predictions.show()"
   ]
  },
  {
   "cell_type": "code",
   "execution_count": 119,
   "id": "d020736b",
   "metadata": {},
   "outputs": [],
   "source": [
    "summ = regressor.summary"
   ]
  },
  {
   "cell_type": "code",
   "execution_count": 120,
   "id": "0cf0936a",
   "metadata": {},
   "outputs": [
    {
     "data": {
      "text/plain": [
       "3686.985025636288"
      ]
     },
     "execution_count": 120,
     "metadata": {},
     "output_type": "execute_result"
    }
   ],
   "source": [
    "summ.rootMeanSquaredError"
   ]
  },
  {
   "cell_type": "code",
   "execution_count": 121,
   "id": "9f0b639e",
   "metadata": {},
   "outputs": [
    {
     "data": {
      "text/plain": [
       "0.6291184060989378"
      ]
     },
     "execution_count": 121,
     "metadata": {},
     "output_type": "execute_result"
    }
   ],
   "source": [
    "summ.r2"
   ]
  },
  {
   "cell_type": "code",
   "execution_count": 125,
   "id": "25b8cb70",
   "metadata": {},
   "outputs": [
    {
     "name": "stdout",
     "output_type": "stream",
     "text": [
      "Root Mean Squared Error (RMSE) on test data = 2814.13\n",
      "R2 = 0.783629\n"
     ]
    }
   ],
   "source": [
    "from pyspark.ml.regression import DecisionTreeRegressor\n",
    "from pyspark.ml.evaluation import RegressionEvaluator\n",
    "dt = DecisionTreeRegressor(featuresCol ='Independent_Features', labelCol = 'price_usd')\n",
    "dt_model = dt.fit(train_data)\n",
    "dt_predictions = dt_model.transform(test_data)\n",
    "dt_evaluator = RegressionEvaluator(\n",
    "    labelCol=\"price_usd\", predictionCol=\"prediction\", metricName=\"rmse\")\n",
    "rmse = dt_evaluator.evaluate(dt_predictions)\n",
    "print(\"Root Mean Squared Error (RMSE) on test data = %g\" % rmse)\n",
    "r2 = dt_evaluator.evaluate(dt_predictions,{dt_evaluator.metricName: \"r2\"})\n",
    "print(\"R2 = %g\" %r2)"
   ]
  },
  {
   "cell_type": "code",
   "execution_count": 126,
   "id": "84a9ac5c",
   "metadata": {},
   "outputs": [
    {
     "data": {
      "text/plain": [
       "SparseVector(9, {1: 0.6996, 2: 0.285, 3: 0.0104, 6: 0.0031, 8: 0.0019})"
      ]
     },
     "execution_count": 126,
     "metadata": {},
     "output_type": "execute_result"
    }
   ],
   "source": [
    "dt_model.featureImportances"
   ]
  },
  {
   "cell_type": "code",
   "execution_count": 127,
   "id": "4f7b0c8b",
   "metadata": {},
   "outputs": [
    {
     "name": "stdout",
     "output_type": "stream",
     "text": [
      "+------------------+---------+--------------------+\n",
      "|        prediction|price_usd|Independent_Features|\n",
      "+------------------+---------+--------------------+\n",
      "|2013.4060424918266|   2350.0|(9,[0,1,2],[34788...|\n",
      "|20991.152016917324|  13200.0|(9,[0,1,2,3],[620...|\n",
      "|1901.0938495058665|   2470.0|(9,[0,1,2,4],[352...|\n",
      "|  8659.40104159913|  11899.0|(9,[0,1,2,4],[715...|\n",
      "|  8659.40104159913|   9600.0|(9,[0,1,2,4],[770...|\n",
      "+------------------+---------+--------------------+\n",
      "only showing top 5 rows\n",
      "\n"
     ]
    }
   ],
   "source": [
    "from pyspark.ml.regression import GBTRegressor\n",
    "gbt = GBTRegressor(featuresCol = 'Independent_Features', labelCol = 'price_usd', maxIter=10)\n",
    "gbt_model = gbt.fit(train_data)\n",
    "gbt_predictions = gbt_model.transform(test_data)\n",
    "gbt_predictions.select('prediction', 'price_usd', 'Independent_Features').show(5)"
   ]
  },
  {
   "cell_type": "code",
   "execution_count": 128,
   "id": "5caf974e",
   "metadata": {},
   "outputs": [
    {
     "name": "stdout",
     "output_type": "stream",
     "text": [
      "Root Mean Squared Error (RMSE) on test data = 2571.54\n",
      "R2 = 0.819325\n"
     ]
    }
   ],
   "source": [
    "gbt_evaluator = RegressionEvaluator(\n",
    "    labelCol=\"price_usd\", predictionCol=\"prediction\", metricName=\"rmse\")\n",
    "\n",
    "rmse = gbt_evaluator.evaluate(gbt_predictions,{gbt_evaluator.metricName: \"rmse\"})\n",
    "print(\"Root Mean Squared Error (RMSE) on test data = %g\" % rmse)\n",
    "r2 = gbt_evaluator.evaluate(gbt_predictions,{gbt_evaluator.metricName: \"r2\"})\n",
    "print(\"R2 = %g\" %r2)"
   ]
  },
  {
   "cell_type": "code",
   "execution_count": 132,
   "id": "692394c5",
   "metadata": {},
   "outputs": [
    {
     "name": "stdout",
     "output_type": "stream",
     "text": [
      "+------------------+---------+--------------------+\n",
      "|        prediction|price_usd|Independent_Features|\n",
      "+------------------+---------+--------------------+\n",
      "| 2442.923210691425|   2350.0|(9,[0,1,2],[34788...|\n",
      "|15913.799951596873|  13200.0|(9,[0,1,2,3],[620...|\n",
      "| 2944.175129475695|   2470.0|(9,[0,1,2,4],[352...|\n",
      "| 8937.859676752112|  11899.0|(9,[0,1,2,4],[715...|\n",
      "| 9030.599512529549|   9600.0|(9,[0,1,2,4],[770...|\n",
      "+------------------+---------+--------------------+\n",
      "only showing top 5 rows\n",
      "\n"
     ]
    }
   ],
   "source": [
    "from pyspark.ml.regression import RandomForestRegressor\n",
    "rft = RandomForestRegressor(featuresCol = 'Independent_Features', labelCol = 'price_usd')\n",
    "rft_model = rft.fit(train_data)\n",
    "rft_predictions = rft_model.transform(test_data)\n",
    "rft_predictions.select('prediction', 'price_usd', 'Independent_Features').show(5)\n"
   ]
  },
  {
   "cell_type": "code",
   "execution_count": 134,
   "id": "f6b9dbcb",
   "metadata": {},
   "outputs": [
    {
     "name": "stdout",
     "output_type": "stream",
     "text": [
      "Root Mean Squared Error (RMSE) on test data = 2826.68\n",
      "R2 = 0.781695\n"
     ]
    }
   ],
   "source": [
    "rft_evaluator = RegressionEvaluator(\n",
    "    labelCol=\"price_usd\", predictionCol=\"prediction\", metricName=\"rmse\")\n",
    "\n",
    "rmse = rft_evaluator.evaluate(rft_predictions,{rft_evaluator.metricName: \"rmse\"})\n",
    "print(\"Root Mean Squared Error (RMSE) on test data = %g\" % rmse)\n",
    "r2 = rft_evaluator.evaluate(rft_predictions,{rft_evaluator.metricName: \"r2\"})\n",
    "print(\"R2 = %g\" %r2)"
   ]
  },
  {
   "cell_type": "code",
   "execution_count": 135,
   "id": "9ef7fe51",
   "metadata": {},
   "outputs": [
    {
     "data": {
      "text/plain": [
       "SparseVector(9, {0: 0.0314, 1: 0.5464, 2: 0.2645, 3: 0.0158, 4: 0.0276, 5: 0.046, 6: 0.0019, 7: 0.0124, 8: 0.054})"
      ]
     },
     "execution_count": 135,
     "metadata": {},
     "output_type": "execute_result"
    }
   ],
   "source": [
    "gbt_model.featureImportances"
   ]
  },
  {
   "cell_type": "code",
   "execution_count": 136,
   "id": "80e00bd7",
   "metadata": {},
   "outputs": [
    {
     "data": {
      "text/plain": [
       "SparseVector(9, {0: 0.0879, 1: 0.5216, 2: 0.1479, 3: 0.118, 4: 0.0181, 5: 0.0129, 6: 0.0048, 7: 0.0, 8: 0.0888})"
      ]
     },
     "execution_count": 136,
     "metadata": {},
     "output_type": "execute_result"
    }
   ],
   "source": [
    "rft_model.featureImportances"
   ]
  },
  {
   "cell_type": "code",
   "execution_count": null,
   "id": "b9da825d",
   "metadata": {},
   "outputs": [],
   "source": []
  }
 ],
 "metadata": {
  "kernelspec": {
   "display_name": "Python [conda env:new-env]",
   "language": "python",
   "name": "conda-env-new-env-py"
  },
  "language_info": {
   "codemirror_mode": {
    "name": "ipython",
    "version": 3
   },
   "file_extension": ".py",
   "mimetype": "text/x-python",
   "name": "python",
   "nbconvert_exporter": "python",
   "pygments_lexer": "ipython3",
   "version": "3.9.12"
  }
 },
 "nbformat": 4,
 "nbformat_minor": 5
}
